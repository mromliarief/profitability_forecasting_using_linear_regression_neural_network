{
 "cells": [
  {
   "cell_type": "markdown",
   "metadata": {},
   "source": [
    "### Import Library"
   ]
  },
  {
   "cell_type": "code",
   "execution_count": 1,
   "metadata": {},
   "outputs": [],
   "source": [
    "import pandas as pd \n",
    "import numpy as np \n",
    "import matplotlib.pyplot as plt\n",
    "import matplotlib.dates as mdates\n",
    "import matplotlib.rcsetup"
   ]
  },
  {
   "cell_type": "markdown",
   "metadata": {},
   "source": [
    "#### Read Dataset"
   ]
  },
  {
   "cell_type": "code",
   "execution_count": 2,
   "metadata": {},
   "outputs": [
    {
     "data": {
      "text/html": [
       "<div>\n",
       "<style scoped>\n",
       "    .dataframe tbody tr th:only-of-type {\n",
       "        vertical-align: middle;\n",
       "    }\n",
       "\n",
       "    .dataframe tbody tr th {\n",
       "        vertical-align: top;\n",
       "    }\n",
       "\n",
       "    .dataframe thead th {\n",
       "        text-align: right;\n",
       "    }\n",
       "</style>\n",
       "<table border=\"1\" class=\"dataframe\">\n",
       "  <thead>\n",
       "    <tr style=\"text-align: right;\">\n",
       "      <th></th>\n",
       "      <th>TAHUN</th>\n",
       "      <th>TOTAL LABA BRUTO</th>\n",
       "      <th>TOTAL LABA BERSIH</th>\n",
       "      <th>TOTAL ASET</th>\n",
       "      <th>TOTAL EKUITAS</th>\n",
       "      <th>ROA</th>\n",
       "      <th>ROE</th>\n",
       "    </tr>\n",
       "  </thead>\n",
       "  <tbody>\n",
       "    <tr>\n",
       "      <th>0</th>\n",
       "      <td>2018-12-01</td>\n",
       "      <td>1.532553e+08</td>\n",
       "      <td>1.601574e+07</td>\n",
       "      <td>2.375409e+09</td>\n",
       "      <td>1.214969e+09</td>\n",
       "      <td>1.240000</td>\n",
       "      <td>2.420000</td>\n",
       "    </tr>\n",
       "    <tr>\n",
       "      <th>1</th>\n",
       "      <td>2019-12-01</td>\n",
       "      <td>1.404324e+08</td>\n",
       "      <td>-1.283451e+08</td>\n",
       "      <td>1.713788e+09</td>\n",
       "      <td>8.595327e+08</td>\n",
       "      <td>-216.710000</td>\n",
       "      <td>-550.790000</td>\n",
       "    </tr>\n",
       "    <tr>\n",
       "      <th>2</th>\n",
       "      <td>2020-12-01</td>\n",
       "      <td>1.654747e+08</td>\n",
       "      <td>1.557089e+07</td>\n",
       "      <td>2.109741e+09</td>\n",
       "      <td>9.679719e+08</td>\n",
       "      <td>-0.400000</td>\n",
       "      <td>-0.960000</td>\n",
       "    </tr>\n",
       "    <tr>\n",
       "      <th>3</th>\n",
       "      <td>2021-12-01</td>\n",
       "      <td>3.962646e+08</td>\n",
       "      <td>2.751081e+08</td>\n",
       "      <td>2.712382e+09</td>\n",
       "      <td>1.227710e+09</td>\n",
       "      <td>16.770000</td>\n",
       "      <td>36.430000</td>\n",
       "    </tr>\n",
       "    <tr>\n",
       "      <th>4</th>\n",
       "      <td>2022-12-01</td>\n",
       "      <td>1.012673e+09</td>\n",
       "      <td>8.557570e+08</td>\n",
       "      <td>4.230422e+09</td>\n",
       "      <td>2.234734e+09</td>\n",
       "      <td>28.350000</td>\n",
       "      <td>50.580000</td>\n",
       "    </tr>\n",
       "    <tr>\n",
       "      <th>5</th>\n",
       "      <td>2023-12-01</td>\n",
       "      <td>4.144350e+08</td>\n",
       "      <td>3.195455e+08</td>\n",
       "      <td>4.910944e+09</td>\n",
       "      <td>2.708106e+09</td>\n",
       "      <td>8.750000</td>\n",
       "      <td>16.050000</td>\n",
       "    </tr>\n",
       "    <tr>\n",
       "      <th>6</th>\n",
       "      <td>2024-12-01</td>\n",
       "      <td>1.699080e+08</td>\n",
       "      <td>-1.709075e+08</td>\n",
       "      <td>4.331186e+08</td>\n",
       "      <td>-2.376089e+08</td>\n",
       "      <td>2.689093</td>\n",
       "      <td>-6.804275</td>\n",
       "    </tr>\n",
       "    <tr>\n",
       "      <th>7</th>\n",
       "      <td>2025-12-01</td>\n",
       "      <td>2.047961e+08</td>\n",
       "      <td>-2.150376e+08</td>\n",
       "      <td>2.062505e+09</td>\n",
       "      <td>-3.821313e+08</td>\n",
       "      <td>3.113690</td>\n",
       "      <td>-7.800000</td>\n",
       "    </tr>\n",
       "  </tbody>\n",
       "</table>\n",
       "</div>"
      ],
      "text/plain": [
       "       TAHUN  TOTAL LABA BRUTO  TOTAL LABA BERSIH    TOTAL ASET  \\\n",
       "0 2018-12-01      1.532553e+08       1.601574e+07  2.375409e+09   \n",
       "1 2019-12-01      1.404324e+08      -1.283451e+08  1.713788e+09   \n",
       "2 2020-12-01      1.654747e+08       1.557089e+07  2.109741e+09   \n",
       "3 2021-12-01      3.962646e+08       2.751081e+08  2.712382e+09   \n",
       "4 2022-12-01      1.012673e+09       8.557570e+08  4.230422e+09   \n",
       "5 2023-12-01      4.144350e+08       3.195455e+08  4.910944e+09   \n",
       "6 2024-12-01      1.699080e+08      -1.709075e+08  4.331186e+08   \n",
       "7 2025-12-01      2.047961e+08      -2.150376e+08  2.062505e+09   \n",
       "\n",
       "   TOTAL EKUITAS         ROA         ROE  \n",
       "0   1.214969e+09    1.240000    2.420000  \n",
       "1   8.595327e+08 -216.710000 -550.790000  \n",
       "2   9.679719e+08   -0.400000   -0.960000  \n",
       "3   1.227710e+09   16.770000   36.430000  \n",
       "4   2.234734e+09   28.350000   50.580000  \n",
       "5   2.708106e+09    8.750000   16.050000  \n",
       "6  -2.376089e+08    2.689093   -6.804275  \n",
       "7  -3.821313e+08    3.113690   -7.800000  "
      ]
     },
     "execution_count": 2,
     "metadata": {},
     "output_type": "execute_result"
    }
   ],
   "source": [
    "df = pd.read_excel(\"Rekap ROA ROE.xlsx\")\n",
    "\n",
    "df"
   ]
  },
  {
   "cell_type": "code",
   "execution_count": 3,
   "metadata": {},
   "outputs": [
    {
     "name": "stdout",
     "output_type": "stream",
     "text": [
      "<class 'pandas.core.frame.DataFrame'>\n",
      "RangeIndex: 8 entries, 0 to 7\n",
      "Data columns (total 7 columns):\n",
      " #   Column             Non-Null Count  Dtype         \n",
      "---  ------             --------------  -----         \n",
      " 0   TAHUN              8 non-null      datetime64[ns]\n",
      " 1   TOTAL LABA BRUTO   8 non-null      float64       \n",
      " 2   TOTAL LABA BERSIH  8 non-null      float64       \n",
      " 3   TOTAL ASET         8 non-null      float64       \n",
      " 4   TOTAL EKUITAS      8 non-null      float64       \n",
      " 5   ROA                8 non-null      float64       \n",
      " 6   ROE                8 non-null      float64       \n",
      "dtypes: datetime64[ns](1), float64(6)\n",
      "memory usage: 576.0 bytes\n"
     ]
    }
   ],
   "source": [
    "df.info()"
   ]
  },
  {
   "cell_type": "code",
   "execution_count": 5,
   "metadata": {},
   "outputs": [],
   "source": [
    "df['TOTAL LABA BRUTO'] = df['TOTAL LABA BRUTO'].astype('float')"
   ]
  },
  {
   "cell_type": "code",
   "execution_count": 6,
   "metadata": {},
   "outputs": [],
   "source": [
    "df['TOTAL LABA BERSIH'] = df['TOTAL LABA BERSIH'].astype('float')\n",
    "df['TOTAL ASET'] = df['TOTAL ASET'].astype('float')\n",
    "df['TOTAL EKUITAS'] = df['TOTAL EKUITAS'].astype('float')"
   ]
  },
  {
   "cell_type": "code",
   "execution_count": 7,
   "metadata": {},
   "outputs": [
    {
     "data": {
      "image/png": "[encoded data removed]",
      "text/plain": [
       "<Figure size 1500x500 with 1 Axes>"
      ]
     },
     "metadata": {},
     "output_type": "display_data"
    }
   ],
   "source": [
    "font = {'size': 12}\n",
    "matplotlib.rc('xtick', labelsize=10) \n",
    "matplotlib.rc('ytick', labelsize=10)\n",
    "\n",
    "df['ROA'].plot(figsize=(15,5),marker='o',linestyle='dashed',color='black',label='ROA')\n",
    "df['ROE'].plot(figsize=(15,5),marker='o',linestyle='dashed',color='crimson',label='ROE')\n",
    "\n",
    "plt.title('Return on Asset/Return on Equity PT. Samudera Indonesia Period 2018-2023',fontdict=font)\n",
    "plt.xlabel('Amounts',fontdict=font)\n",
    "plt.ylabel('Price',fontdict=font)\n",
    "plt.legend()\n",
    "plt.grid()\n",
    "plt.show()"
   ]
  },
  {
   "cell_type": "code",
   "execution_count": 8,
   "metadata": {},
   "outputs": [
    {
     "data": {
      "text/plain": [
       "Text(0.5, 1.0, 'Corr. Pearson Between Features of Finance Report')"
      ]
     },
     "execution_count": 8,
     "metadata": {},
     "output_type": "execute_result"
    },
    {
     "data": {
      "image/png": "[encoded data removed]",
      "text/plain": [
       "<Figure size 2000x1000 with 2 Axes>"
      ]
     },
     "metadata": {},
     "output_type": "display_data"
    }
   ],
   "source": [
    "import seaborn as sns\n",
    "\n",
    "plt.subplots(figsize=(20,10))\n",
    "sns.heatmap(df.corr('pearson'),annot=True, linewidths=.5)\n",
    "plt.title('Corr. Pearson Between Features of Finance Report')"
   ]
  },
  {
   "cell_type": "markdown",
   "metadata": {},
   "source": [
    "#### Feature Selection f/ ROE / ROA"
   ]
  },
  {
   "cell_type": "code",
   "execution_count": 56,
   "metadata": {},
   "outputs": [
    {
     "data": {
      "text/plain": [
       "array([   1.24      , -216.71      ,   -0.4       ,   16.77      ,\n",
       "         28.35      ,    8.75      ,    2.68909274,    3.1136896 ])"
      ]
     },
     "execution_count": 56,
     "metadata": {},
     "output_type": "execute_result"
    }
   ],
   "source": [
    "# ROA\n",
    "\n",
    "X = df.iloc[:,5].values\n",
    "\n",
    "X"
   ]
  },
  {
   "cell_type": "code",
   "execution_count": 57,
   "metadata": {},
   "outputs": [
    {
     "data": {
      "text/plain": [
       "array([   2.42     , -550.79     ,   -0.96     ,   36.43     ,\n",
       "         50.58     ,   16.05     ,   -6.8042752,   -7.8      ])"
      ]
     },
     "execution_count": 57,
     "metadata": {},
     "output_type": "execute_result"
    }
   ],
   "source": [
    "# ROE\n",
    "\n",
    "Y = df.iloc[:,6].values\n",
    "\n",
    "Y"
   ]
  },
  {
   "cell_type": "code",
   "execution_count": 58,
   "metadata": {},
   "outputs": [
    {
     "data": {
      "text/plain": [
       "array([[   1.24      ],\n",
       "       [-216.71      ],\n",
       "       [  -0.4       ],\n",
       "       [  16.77      ],\n",
       "       [  28.35      ],\n",
       "       [   8.75      ],\n",
       "       [   2.68909274],\n",
       "       [   3.1136896 ]])"
      ]
     },
     "execution_count": 58,
     "metadata": {},
     "output_type": "execute_result"
    }
   ],
   "source": [
    "X = X.reshape(-1,1)\n",
    "\n",
    "X"
   ]
  },
  {
   "cell_type": "code",
   "execution_count": 59,
   "metadata": {},
   "outputs": [
    {
     "data": {
      "text/plain": [
       "array([[   2.42     ],\n",
       "       [-550.79     ],\n",
       "       [  -0.96     ],\n",
       "       [  36.43     ],\n",
       "       [  50.58     ],\n",
       "       [  16.05     ],\n",
       "       [  -6.8042752],\n",
       "       [  -7.8      ]])"
      ]
     },
     "execution_count": 59,
     "metadata": {},
     "output_type": "execute_result"
    }
   ],
   "source": [
    "Y = Y.reshape(-1,1)\n",
    "\n",
    "Y"
   ]
  },
  {
   "cell_type": "markdown",
   "metadata": {},
   "source": [
    "#### Normalization"
   ]
  },
  {
   "cell_type": "code",
   "execution_count": 60,
   "metadata": {},
   "outputs": [
    {
     "name": "stdout",
     "output_type": "stream",
     "text": [
      "Data X setelah dinormalisasi\n",
      " [[0.88937403]\n",
      " [0.        ]\n",
      " [0.88268179]\n",
      " [0.95274627]\n",
      " [1.        ]\n",
      " [0.92001959]\n",
      " [0.89528725]\n",
      " [0.89701987]]\n"
     ]
    }
   ],
   "source": [
    "from sklearn import preprocessing\n",
    "min_max_scaler = preprocessing.MinMaxScaler(feature_range=(0,1))\n",
    "scaled_X = min_max_scaler.fit_transform(X)\n",
    "scaled_Y = min_max_scaler.fit_transform(Y)\n",
    "\n",
    "print('Data X setelah dinormalisasi\\n',scaled_X)"
   ]
  },
  {
   "cell_type": "code",
   "execution_count": 61,
   "metadata": {},
   "outputs": [
    {
     "name": "stdout",
     "output_type": "stream",
     "text": [
      "Data Y setelah dinormalisasi\n",
      " [[0.91991619]\n",
      " [0.        ]\n",
      " [0.91429569]\n",
      " [0.97647039]\n",
      " [1.        ]\n",
      " [0.94258111]\n",
      " [0.90457742]\n",
      " [0.90292166]]\n"
     ]
    }
   ],
   "source": [
    "print('Data Y setelah dinormalisasi\\n',scaled_Y)"
   ]
  },
  {
   "cell_type": "code",
   "execution_count": 62,
   "metadata": {},
   "outputs": [
    {
     "data": {
      "text/plain": [
       "array([[0.91991619],\n",
       "       [0.        ],\n",
       "       [0.91429569],\n",
       "       [0.97647039],\n",
       "       [1.        ],\n",
       "       [0.94258111],\n",
       "       [0.90457742],\n",
       "       [0.90292166]])"
      ]
     },
     "execution_count": 62,
     "metadata": {},
     "output_type": "execute_result"
    }
   ],
   "source": [
    "scaled_Y"
   ]
  },
  {
   "cell_type": "code",
   "execution_count": 63,
   "metadata": {},
   "outputs": [
    {
     "data": {
      "text/plain": [
       "array([[0.88937403],\n",
       "       [0.        ],\n",
       "       [0.88268179],\n",
       "       [0.95274627],\n",
       "       [1.        ],\n",
       "       [0.92001959],\n",
       "       [0.89528725],\n",
       "       [0.89701987]])"
      ]
     },
     "execution_count": 63,
     "metadata": {},
     "output_type": "execute_result"
    }
   ],
   "source": [
    "scaled_X"
   ]
  },
  {
   "cell_type": "markdown",
   "metadata": {},
   "source": [
    "#### Split DTr/DTs"
   ]
  },
  {
   "cell_type": "code",
   "execution_count": 64,
   "metadata": {},
   "outputs": [],
   "source": [
    "from sklearn.model_selection import train_test_split\n",
    "\n",
    "X_train, X_test, Y_train, Y_test = train_test_split(scaled_X,scaled_Y,random_state=0,test_size=0.30)"
   ]
  },
  {
   "cell_type": "code",
   "execution_count": 65,
   "metadata": {},
   "outputs": [
    {
     "data": {
      "text/plain": [
       "(5, 1)"
      ]
     },
     "execution_count": 65,
     "metadata": {},
     "output_type": "execute_result"
    }
   ],
   "source": [
    "X_train.shape"
   ]
  },
  {
   "cell_type": "code",
   "execution_count": 66,
   "metadata": {},
   "outputs": [
    {
     "data": {
      "text/plain": [
       "(5, 1)"
      ]
     },
     "execution_count": 66,
     "metadata": {},
     "output_type": "execute_result"
    }
   ],
   "source": [
    "Y_train.shape"
   ]
  },
  {
   "cell_type": "markdown",
   "metadata": {},
   "source": [
    "#### Simulasi Linear Regresi"
   ]
  },
  {
   "cell_type": "code",
   "execution_count": 67,
   "metadata": {},
   "outputs": [
    {
     "data": {
      "text/html": [
       "<style>#sk-container-id-2 {color: black;background-color: white;}#sk-container-id-2 pre{padding: 0;}#sk-container-id-2 div.sk-toggleable {background-color: white;}#sk-container-id-2 label.sk-toggleable__label {cursor: pointer;display: block;width: 100%;margin-bottom: 0;padding: 0.3em;box-sizing: border-box;text-align: center;}#sk-container-id-2 label.sk-toggleable__label-arrow:before {content: \"▸\";float: left;margin-right: 0.25em;color: #696969;}#sk-container-id-2 label.sk-toggleable__label-arrow:hover:before {color: black;}#sk-container-id-2 div.sk-estimator:hover label.sk-toggleable__label-arrow:before {color: black;}#sk-container-id-2 div.sk-toggleable__content {max-height: 0;max-width: 0;overflow: hidden;text-align: left;background-color: #f0f8ff;}#sk-container-id-2 div.sk-toggleable__content pre {margin: 0.2em;color: black;border-radius: 0.25em;background-color: #f0f8ff;}#sk-container-id-2 input.sk-toggleable__control:checked~div.sk-toggleable__content {max-height: 200px;max-width: 100%;overflow: auto;}#sk-container-id-2 input.sk-toggleable__control:checked~label.sk-toggleable__label-arrow:before {content: \"▾\";}#sk-container-id-2 div.sk-estimator input.sk-toggleable__control:checked~label.sk-toggleable__label {background-color: #d4ebff;}#sk-container-id-2 div.sk-label input.sk-toggleable__control:checked~label.sk-toggleable__label {background-color: #d4ebff;}#sk-container-id-2 input.sk-hidden--visually {border: 0;clip: rect(1px 1px 1px 1px);clip: rect(1px, 1px, 1px, 1px);height: 1px;margin: -1px;overflow: hidden;padding: 0;position: absolute;width: 1px;}#sk-container-id-2 div.sk-estimator {font-family: monospace;background-color: #f0f8ff;border: 1px dotted black;border-radius: 0.25em;box-sizing: border-box;margin-bottom: 0.5em;}#sk-container-id-2 div.sk-estimator:hover {background-color: #d4ebff;}#sk-container-id-2 div.sk-parallel-item::after {content: \"\";width: 100%;border-bottom: 1px solid gray;flex-grow: 1;}#sk-container-id-2 div.sk-label:hover label.sk-toggleable__label {background-color: #d4ebff;}#sk-container-id-2 div.sk-serial::before {content: \"\";position: absolute;border-left: 1px solid gray;box-sizing: border-box;top: 0;bottom: 0;left: 50%;z-index: 0;}#sk-container-id-2 div.sk-serial {display: flex;flex-direction: column;align-items: center;background-color: white;padding-right: 0.2em;padding-left: 0.2em;position: relative;}#sk-container-id-2 div.sk-item {position: relative;z-index: 1;}#sk-container-id-2 div.sk-parallel {display: flex;align-items: stretch;justify-content: center;background-color: white;position: relative;}#sk-container-id-2 div.sk-item::before, #sk-container-id-2 div.sk-parallel-item::before {content: \"\";position: absolute;border-left: 1px solid gray;box-sizing: border-box;top: 0;bottom: 0;left: 50%;z-index: -1;}#sk-container-id-2 div.sk-parallel-item {display: flex;flex-direction: column;z-index: 1;position: relative;background-color: white;}#sk-container-id-2 div.sk-parallel-item:first-child::after {align-self: flex-end;width: 50%;}#sk-container-id-2 div.sk-parallel-item:last-child::after {align-self: flex-start;width: 50%;}#sk-container-id-2 div.sk-parallel-item:only-child::after {width: 0;}#sk-container-id-2 div.sk-dashed-wrapped {border: 1px dashed gray;margin: 0 0.4em 0.5em 0.4em;box-sizing: border-box;padding-bottom: 0.4em;background-color: white;}#sk-container-id-2 div.sk-label label {font-family: monospace;font-weight: bold;display: inline-block;line-height: 1.2em;}#sk-container-id-2 div.sk-label-container {text-align: center;}#sk-container-id-2 div.sk-container {/* jupyter's `normalize.less` sets `[hidden] { display: none; }` but bootstrap.min.css set `[hidden] { display: none !important; }` so we also need the `!important` here to be able to override the default hidden behavior on the sphinx rendered scikit-learn.org. See: https://github.com/scikit-learn/scikit-learn/issues/21755 */display: inline-block !important;position: relative;}#sk-container-id-2 div.sk-text-repr-fallback {display: none;}</style><div id=\"sk-container-id-2\" class=\"sk-top-container\"><div class=\"sk-text-repr-fallback\"><pre>LinearRegression()</pre><b>In a Jupyter environment, please rerun this cell to show the HTML representation or trust the notebook. <br />On GitHub, the HTML representation is unable to render, please try loading this page with nbviewer.org.</b></div><div class=\"sk-container\" hidden><div class=\"sk-item\"><div class=\"sk-estimator sk-toggleable\"><input class=\"sk-toggleable__control sk-hidden--visually\" id=\"sk-estimator-id-2\" type=\"checkbox\" checked><label for=\"sk-estimator-id-2\" class=\"sk-toggleable__label sk-toggleable__label-arrow\">LinearRegression</label><div class=\"sk-toggleable__content\"><pre>LinearRegression()</pre></div></div></div></div></div>"
      ],
      "text/plain": [
       "LinearRegression()"
      ]
     },
     "execution_count": 67,
     "metadata": {},
     "output_type": "execute_result"
    }
   ],
   "source": [
    "from sklearn.linear_model import LinearRegression \n",
    "regresor = LinearRegression()\n",
    "regresor.fit(X_train,Y_train)"
   ]
  },
  {
   "cell_type": "code",
   "execution_count": 68,
   "metadata": {},
   "outputs": [
    {
     "data": {
      "text/plain": [
       "array([[0.89701987],\n",
       "       [0.95274627],\n",
       "       [0.88937403],\n",
       "       [0.92001959],\n",
       "       [1.        ]])"
      ]
     },
     "execution_count": 68,
     "metadata": {},
     "output_type": "execute_result"
    }
   ],
   "source": [
    "X_train"
   ]
  },
  {
   "cell_type": "code",
   "execution_count": 69,
   "metadata": {},
   "outputs": [
    {
     "data": {
      "text/plain": [
       "(8, 1)"
      ]
     },
     "execution_count": 69,
     "metadata": {},
     "output_type": "execute_result"
    }
   ],
   "source": [
    "scaled_X.shape"
   ]
  },
  {
   "cell_type": "code",
   "execution_count": 70,
   "metadata": {},
   "outputs": [
    {
     "data": {
      "text/plain": [
       "array([[0.91747804],\n",
       "       [0.90681969],\n",
       "       [0.16048134]])"
      ]
     },
     "execution_count": 70,
     "metadata": {},
     "output_type": "execute_result"
    }
   ],
   "source": [
    "y_estimasi = regresor.predict(X_test)\n",
    "\n",
    "y_estimasi"
   ]
  },
  {
   "cell_type": "code",
   "execution_count": 71,
   "metadata": {},
   "outputs": [
    {
     "data": {
      "text/plain": [
       "array([[   0.95377142],\n",
       "       [  -5.45584243],\n",
       "       [-454.28133548]])"
      ]
     },
     "execution_count": 71,
     "metadata": {},
     "output_type": "execute_result"
    }
   ],
   "source": [
    "inversed_scaled_y_estimasi = min_max_scaler.inverse_transform(y_estimasi)\n",
    "\n",
    "inversed_scaled_y_estimasi"
   ]
  },
  {
   "cell_type": "code",
   "execution_count": 72,
   "metadata": {},
   "outputs": [
    {
     "data": {
      "text/plain": [
       "array([[0.90457742],\n",
       "       [0.91429569],\n",
       "       [0.        ]])"
      ]
     },
     "execution_count": 72,
     "metadata": {},
     "output_type": "execute_result"
    }
   ],
   "source": [
    "Y_test"
   ]
  },
  {
   "cell_type": "code",
   "execution_count": 73,
   "metadata": {},
   "outputs": [
    {
     "data": {
      "text/plain": [
       "array([[0.91747804],\n",
       "       [0.90681969],\n",
       "       [0.16048134]])"
      ]
     },
     "execution_count": 73,
     "metadata": {},
     "output_type": "execute_result"
    }
   ],
   "source": [
    "y_estimasi"
   ]
  },
  {
   "cell_type": "markdown",
   "metadata": {},
   "source": [
    "#### Evaluate Model"
   ]
  },
  {
   "cell_type": "code",
   "execution_count": 74,
   "metadata": {},
   "outputs": [
    {
     "name": "stdout",
     "output_type": "stream",
     "text": [
      "MSE LR :  0.008658859227439959\n",
      "MAE LR :  0.060285987864626134\n",
      "MAPE LR :  240914570393489.84\n",
      "RMSE LR :  0.09305299150183168\n"
     ]
    }
   ],
   "source": [
    "from sklearn.metrics import mean_absolute_percentage_error,mean_squared_error,mean_absolute_error\n",
    "from sklearn.metrics import r2_score\n",
    "from math import sqrt\n",
    "\n",
    "mse = mean_squared_error(Y_test,y_estimasi)\n",
    "mae = mean_absolute_error(Y_test,y_estimasi)\n",
    "mape = mean_absolute_percentage_error(Y_test,y_estimasi)\n",
    "\n",
    "\n",
    "print('MSE LR : ',mse)\n",
    "print('MAE LR : ',mae)\n",
    "print('MAPE LR : ',mape)\n",
    "print('RMSE LR : ',sqrt(mse))"
   ]
  },
  {
   "cell_type": "code",
   "execution_count": 75,
   "metadata": {},
   "outputs": [
    {
     "data": {
      "text/plain": [
       "array([[0.91247821],\n",
       "       [0.16048134],\n",
       "       [0.90681969],\n",
       "       [0.96606166],\n",
       "       [1.00601634],\n",
       "       [0.9383901 ],\n",
       "       [0.91747804],\n",
       "       [0.91894304]])"
      ]
     },
     "execution_count": 75,
     "metadata": {},
     "output_type": "execute_result"
    }
   ],
   "source": [
    "y_estimasi_dua = regresor.predict(scaled_X)\n",
    "\n",
    "y_estimasi_dua"
   ]
  },
  {
   "cell_type": "code",
   "execution_count": 76,
   "metadata": {},
   "outputs": [
    {
     "data": {
      "text/plain": [
       "array([[  -2.05297706],\n",
       "       [-454.28133548],\n",
       "       [  -5.45584243],\n",
       "       [  30.17049808],\n",
       "       [  54.19804748],\n",
       "       [  13.52965645],\n",
       "       [   0.95377142],\n",
       "       [   1.83477505]])"
      ]
     },
     "execution_count": 76,
     "metadata": {},
     "output_type": "execute_result"
    }
   ],
   "source": [
    "y_estimasi_dua = min_max_scaler.inverse_transform(y_estimasi_dua)\n",
    "\n",
    "y_estimasi_dua"
   ]
  },
  {
   "cell_type": "code",
   "execution_count": 77,
   "metadata": {},
   "outputs": [
    {
     "data": {
      "text/plain": [
       "array([  -2.05297706, -454.28133548,   -5.45584243,   30.17049808,\n",
       "         54.19804748,   13.52965645,    0.95377142,    1.83477505])"
      ]
     },
     "execution_count": 77,
     "metadata": {},
     "output_type": "execute_result"
    }
   ],
   "source": [
    "y_estimasi_dua = y_estimasi_dua.reshape(-1)\n",
    "\n",
    "y_estimasi_dua"
   ]
  },
  {
   "cell_type": "code",
   "execution_count": 78,
   "metadata": {},
   "outputs": [
    {
     "data": {
      "text/html": [
       "<div>\n",
       "<style scoped>\n",
       "    .dataframe tbody tr th:only-of-type {\n",
       "        vertical-align: middle;\n",
       "    }\n",
       "\n",
       "    .dataframe tbody tr th {\n",
       "        vertical-align: top;\n",
       "    }\n",
       "\n",
       "    .dataframe thead th {\n",
       "        text-align: right;\n",
       "    }\n",
       "</style>\n",
       "<table border=\"1\" class=\"dataframe\">\n",
       "  <thead>\n",
       "    <tr style=\"text-align: right;\">\n",
       "      <th></th>\n",
       "      <th>Prediction LR</th>\n",
       "    </tr>\n",
       "  </thead>\n",
       "  <tbody>\n",
       "    <tr>\n",
       "      <th>0</th>\n",
       "      <td>-2.052977</td>\n",
       "    </tr>\n",
       "    <tr>\n",
       "      <th>1</th>\n",
       "      <td>-454.281335</td>\n",
       "    </tr>\n",
       "    <tr>\n",
       "      <th>2</th>\n",
       "      <td>-5.455842</td>\n",
       "    </tr>\n",
       "    <tr>\n",
       "      <th>3</th>\n",
       "      <td>30.170498</td>\n",
       "    </tr>\n",
       "    <tr>\n",
       "      <th>4</th>\n",
       "      <td>54.198047</td>\n",
       "    </tr>\n",
       "    <tr>\n",
       "      <th>5</th>\n",
       "      <td>13.529656</td>\n",
       "    </tr>\n",
       "    <tr>\n",
       "      <th>6</th>\n",
       "      <td>0.953771</td>\n",
       "    </tr>\n",
       "    <tr>\n",
       "      <th>7</th>\n",
       "      <td>1.834775</td>\n",
       "    </tr>\n",
       "  </tbody>\n",
       "</table>\n",
       "</div>"
      ],
      "text/plain": [
       "   Prediction LR\n",
       "0      -2.052977\n",
       "1    -454.281335\n",
       "2      -5.455842\n",
       "3      30.170498\n",
       "4      54.198047\n",
       "5      13.529656\n",
       "6       0.953771\n",
       "7       1.834775"
      ]
     },
     "execution_count": 78,
     "metadata": {},
     "output_type": "execute_result"
    }
   ],
   "source": [
    "df_y_estimasi_dua = pd.DataFrame({'Prediction LR':y_estimasi_dua})\n",
    "\n",
    "df_y_estimasi_dua"
   ]
  },
  {
   "cell_type": "code",
   "execution_count": 79,
   "metadata": {},
   "outputs": [
    {
     "data": {
      "text/html": [
       "<div>\n",
       "<style scoped>\n",
       "    .dataframe tbody tr th:only-of-type {\n",
       "        vertical-align: middle;\n",
       "    }\n",
       "\n",
       "    .dataframe tbody tr th {\n",
       "        vertical-align: top;\n",
       "    }\n",
       "\n",
       "    .dataframe thead th {\n",
       "        text-align: right;\n",
       "    }\n",
       "</style>\n",
       "<table border=\"1\" class=\"dataframe\">\n",
       "  <thead>\n",
       "    <tr style=\"text-align: right;\">\n",
       "      <th></th>\n",
       "      <th>TAHUN</th>\n",
       "      <th>TOTAL LABA BRUTO</th>\n",
       "      <th>TOTAL LABA BERSIH</th>\n",
       "      <th>TOTAL ASET</th>\n",
       "      <th>TOTAL EKUITAS</th>\n",
       "      <th>ROA</th>\n",
       "      <th>ROE</th>\n",
       "      <th>Prediction LR_x</th>\n",
       "      <th>Prediction NN 2 HL</th>\n",
       "      <th>Prediction LR_y</th>\n",
       "    </tr>\n",
       "  </thead>\n",
       "  <tbody>\n",
       "    <tr>\n",
       "      <th>0</th>\n",
       "      <td>2018-12-01</td>\n",
       "      <td>1.532553e+08</td>\n",
       "      <td>1.601574e+07</td>\n",
       "      <td>2.375409e+09</td>\n",
       "      <td>1.214969e+09</td>\n",
       "      <td>1.240000</td>\n",
       "      <td>2.420000</td>\n",
       "      <td>4.010281</td>\n",
       "      <td>10.900002</td>\n",
       "      <td>-2.052977</td>\n",
       "    </tr>\n",
       "    <tr>\n",
       "      <th>1</th>\n",
       "      <td>2019-12-01</td>\n",
       "      <td>1.404324e+08</td>\n",
       "      <td>-1.283451e+08</td>\n",
       "      <td>1.713788e+09</td>\n",
       "      <td>8.595327e+08</td>\n",
       "      <td>-216.710000</td>\n",
       "      <td>-550.790000</td>\n",
       "      <td>-242.744686</td>\n",
       "      <td>-15.361454</td>\n",
       "      <td>-454.281335</td>\n",
       "    </tr>\n",
       "    <tr>\n",
       "      <th>2</th>\n",
       "      <td>2020-12-01</td>\n",
       "      <td>1.654747e+08</td>\n",
       "      <td>1.557089e+07</td>\n",
       "      <td>2.109741e+09</td>\n",
       "      <td>9.679719e+08</td>\n",
       "      <td>-0.400000</td>\n",
       "      <td>-0.960000</td>\n",
       "      <td>2.502658</td>\n",
       "      <td>10.796674</td>\n",
       "      <td>-5.455842</td>\n",
       "    </tr>\n",
       "    <tr>\n",
       "      <th>3</th>\n",
       "      <td>2021-12-01</td>\n",
       "      <td>3.962646e+08</td>\n",
       "      <td>2.751081e+08</td>\n",
       "      <td>2.712382e+09</td>\n",
       "      <td>1.227710e+09</td>\n",
       "      <td>16.770000</td>\n",
       "      <td>36.430000</td>\n",
       "      <td>19.180174</td>\n",
       "      <td>11.908916</td>\n",
       "      <td>30.170498</td>\n",
       "    </tr>\n",
       "    <tr>\n",
       "      <th>4</th>\n",
       "      <td>2022-12-01</td>\n",
       "      <td>1.012673e+09</td>\n",
       "      <td>8.557570e+08</td>\n",
       "      <td>4.230422e+09</td>\n",
       "      <td>2.234734e+09</td>\n",
       "      <td>28.350000</td>\n",
       "      <td>50.580000</td>\n",
       "      <td>25.491670</td>\n",
       "      <td>12.312529</td>\n",
       "      <td>54.198047</td>\n",
       "    </tr>\n",
       "    <tr>\n",
       "      <th>5</th>\n",
       "      <td>2023-12-01</td>\n",
       "      <td>4.144350e+08</td>\n",
       "      <td>3.195455e+08</td>\n",
       "      <td>4.910944e+09</td>\n",
       "      <td>2.708106e+09</td>\n",
       "      <td>8.750000</td>\n",
       "      <td>16.050000</td>\n",
       "      <td>10.089835</td>\n",
       "      <td>11.311034</td>\n",
       "      <td>13.529656</td>\n",
       "    </tr>\n",
       "    <tr>\n",
       "      <th>6</th>\n",
       "      <td>2024-12-01</td>\n",
       "      <td>1.699080e+08</td>\n",
       "      <td>-1.709075e+08</td>\n",
       "      <td>4.331186e+08</td>\n",
       "      <td>-2.376089e+08</td>\n",
       "      <td>2.689093</td>\n",
       "      <td>-6.804275</td>\n",
       "      <td>-0.104135</td>\n",
       "      <td>10.616660</td>\n",
       "      <td>0.953771</td>\n",
       "    </tr>\n",
       "    <tr>\n",
       "      <th>7</th>\n",
       "      <td>2025-12-01</td>\n",
       "      <td>2.047961e+08</td>\n",
       "      <td>-2.150376e+08</td>\n",
       "      <td>2.062505e+09</td>\n",
       "      <td>-3.821313e+08</td>\n",
       "      <td>3.113690</td>\n",
       "      <td>-7.800000</td>\n",
       "      <td>-0.548270</td>\n",
       "      <td>10.585825</td>\n",
       "      <td>1.834775</td>\n",
       "    </tr>\n",
       "  </tbody>\n",
       "</table>\n",
       "</div>"
      ],
      "text/plain": [
       "       TAHUN  TOTAL LABA BRUTO  TOTAL LABA BERSIH    TOTAL ASET  \\\n",
       "0 2018-12-01      1.532553e+08       1.601574e+07  2.375409e+09   \n",
       "1 2019-12-01      1.404324e+08      -1.283451e+08  1.713788e+09   \n",
       "2 2020-12-01      1.654747e+08       1.557089e+07  2.109741e+09   \n",
       "3 2021-12-01      3.962646e+08       2.751081e+08  2.712382e+09   \n",
       "4 2022-12-01      1.012673e+09       8.557570e+08  4.230422e+09   \n",
       "5 2023-12-01      4.144350e+08       3.195455e+08  4.910944e+09   \n",
       "6 2024-12-01      1.699080e+08      -1.709075e+08  4.331186e+08   \n",
       "7 2025-12-01      2.047961e+08      -2.150376e+08  2.062505e+09   \n",
       "\n",
       "   TOTAL EKUITAS         ROA         ROE  Prediction LR_x  Prediction NN 2 HL  \\\n",
       "0   1.214969e+09    1.240000    2.420000         4.010281           10.900002   \n",
       "1   8.595327e+08 -216.710000 -550.790000      -242.744686          -15.361454   \n",
       "2   9.679719e+08   -0.400000   -0.960000         2.502658           10.796674   \n",
       "3   1.227710e+09   16.770000   36.430000        19.180174           11.908916   \n",
       "4   2.234734e+09   28.350000   50.580000        25.491670           12.312529   \n",
       "5   2.708106e+09    8.750000   16.050000        10.089835           11.311034   \n",
       "6  -2.376089e+08    2.689093   -6.804275        -0.104135           10.616660   \n",
       "7  -3.821313e+08    3.113690   -7.800000        -0.548270           10.585825   \n",
       "\n",
       "   Prediction LR_y  \n",
       "0        -2.052977  \n",
       "1      -454.281335  \n",
       "2        -5.455842  \n",
       "3        30.170498  \n",
       "4        54.198047  \n",
       "5        13.529656  \n",
       "6         0.953771  \n",
       "7         1.834775  "
      ]
     },
     "execution_count": 79,
     "metadata": {},
     "output_type": "execute_result"
    }
   ],
   "source": [
    "df = df.merge(df_y_estimasi_dua,how='left',left_index=True,right_index=True)\n",
    "\n",
    "df"
   ]
  },
  {
   "cell_type": "code",
   "execution_count": 80,
   "metadata": {},
   "outputs": [],
   "source": [
    "df.drop(columns='Prediction LR_x',inplace=True)\n",
    "df.rename(columns={'Prediction LR_y':'Prediction LR'},inplace=True)"
   ]
  },
  {
   "cell_type": "code",
   "execution_count": 81,
   "metadata": {},
   "outputs": [
    {
     "data": {
      "text/html": [
       "<div>\n",
       "<style scoped>\n",
       "    .dataframe tbody tr th:only-of-type {\n",
       "        vertical-align: middle;\n",
       "    }\n",
       "\n",
       "    .dataframe tbody tr th {\n",
       "        vertical-align: top;\n",
       "    }\n",
       "\n",
       "    .dataframe thead th {\n",
       "        text-align: right;\n",
       "    }\n",
       "</style>\n",
       "<table border=\"1\" class=\"dataframe\">\n",
       "  <thead>\n",
       "    <tr style=\"text-align: right;\">\n",
       "      <th></th>\n",
       "      <th>TAHUN</th>\n",
       "      <th>TOTAL LABA BRUTO</th>\n",
       "      <th>TOTAL LABA BERSIH</th>\n",
       "      <th>TOTAL ASET</th>\n",
       "      <th>TOTAL EKUITAS</th>\n",
       "      <th>ROA</th>\n",
       "      <th>ROE</th>\n",
       "      <th>Prediction NN 2 HL</th>\n",
       "      <th>Prediction LR</th>\n",
       "    </tr>\n",
       "  </thead>\n",
       "  <tbody>\n",
       "    <tr>\n",
       "      <th>0</th>\n",
       "      <td>2018-12-01</td>\n",
       "      <td>1.532553e+08</td>\n",
       "      <td>1.601574e+07</td>\n",
       "      <td>2.375409e+09</td>\n",
       "      <td>1.214969e+09</td>\n",
       "      <td>1.240000</td>\n",
       "      <td>2.420000</td>\n",
       "      <td>10.900002</td>\n",
       "      <td>-2.052977</td>\n",
       "    </tr>\n",
       "    <tr>\n",
       "      <th>1</th>\n",
       "      <td>2019-12-01</td>\n",
       "      <td>1.404324e+08</td>\n",
       "      <td>-1.283451e+08</td>\n",
       "      <td>1.713788e+09</td>\n",
       "      <td>8.595327e+08</td>\n",
       "      <td>-216.710000</td>\n",
       "      <td>-550.790000</td>\n",
       "      <td>-15.361454</td>\n",
       "      <td>-454.281335</td>\n",
       "    </tr>\n",
       "    <tr>\n",
       "      <th>2</th>\n",
       "      <td>2020-12-01</td>\n",
       "      <td>1.654747e+08</td>\n",
       "      <td>1.557089e+07</td>\n",
       "      <td>2.109741e+09</td>\n",
       "      <td>9.679719e+08</td>\n",
       "      <td>-0.400000</td>\n",
       "      <td>-0.960000</td>\n",
       "      <td>10.796674</td>\n",
       "      <td>-5.455842</td>\n",
       "    </tr>\n",
       "    <tr>\n",
       "      <th>3</th>\n",
       "      <td>2021-12-01</td>\n",
       "      <td>3.962646e+08</td>\n",
       "      <td>2.751081e+08</td>\n",
       "      <td>2.712382e+09</td>\n",
       "      <td>1.227710e+09</td>\n",
       "      <td>16.770000</td>\n",
       "      <td>36.430000</td>\n",
       "      <td>11.908916</td>\n",
       "      <td>30.170498</td>\n",
       "    </tr>\n",
       "    <tr>\n",
       "      <th>4</th>\n",
       "      <td>2022-12-01</td>\n",
       "      <td>1.012673e+09</td>\n",
       "      <td>8.557570e+08</td>\n",
       "      <td>4.230422e+09</td>\n",
       "      <td>2.234734e+09</td>\n",
       "      <td>28.350000</td>\n",
       "      <td>50.580000</td>\n",
       "      <td>12.312529</td>\n",
       "      <td>54.198047</td>\n",
       "    </tr>\n",
       "    <tr>\n",
       "      <th>5</th>\n",
       "      <td>2023-12-01</td>\n",
       "      <td>4.144350e+08</td>\n",
       "      <td>3.195455e+08</td>\n",
       "      <td>4.910944e+09</td>\n",
       "      <td>2.708106e+09</td>\n",
       "      <td>8.750000</td>\n",
       "      <td>16.050000</td>\n",
       "      <td>11.311034</td>\n",
       "      <td>13.529656</td>\n",
       "    </tr>\n",
       "    <tr>\n",
       "      <th>6</th>\n",
       "      <td>2024-12-01</td>\n",
       "      <td>1.699080e+08</td>\n",
       "      <td>-1.709075e+08</td>\n",
       "      <td>4.331186e+08</td>\n",
       "      <td>-2.376089e+08</td>\n",
       "      <td>2.689093</td>\n",
       "      <td>-6.804275</td>\n",
       "      <td>10.616660</td>\n",
       "      <td>0.953771</td>\n",
       "    </tr>\n",
       "    <tr>\n",
       "      <th>7</th>\n",
       "      <td>2025-12-01</td>\n",
       "      <td>2.047961e+08</td>\n",
       "      <td>-2.150376e+08</td>\n",
       "      <td>2.062505e+09</td>\n",
       "      <td>-3.821313e+08</td>\n",
       "      <td>3.113690</td>\n",
       "      <td>-7.800000</td>\n",
       "      <td>10.585825</td>\n",
       "      <td>1.834775</td>\n",
       "    </tr>\n",
       "  </tbody>\n",
       "</table>\n",
       "</div>"
      ],
      "text/plain": [
       "       TAHUN  TOTAL LABA BRUTO  TOTAL LABA BERSIH    TOTAL ASET  \\\n",
       "0 2018-12-01      1.532553e+08       1.601574e+07  2.375409e+09   \n",
       "1 2019-12-01      1.404324e+08      -1.283451e+08  1.713788e+09   \n",
       "2 2020-12-01      1.654747e+08       1.557089e+07  2.109741e+09   \n",
       "3 2021-12-01      3.962646e+08       2.751081e+08  2.712382e+09   \n",
       "4 2022-12-01      1.012673e+09       8.557570e+08  4.230422e+09   \n",
       "5 2023-12-01      4.144350e+08       3.195455e+08  4.910944e+09   \n",
       "6 2024-12-01      1.699080e+08      -1.709075e+08  4.331186e+08   \n",
       "7 2025-12-01      2.047961e+08      -2.150376e+08  2.062505e+09   \n",
       "\n",
       "   TOTAL EKUITAS         ROA         ROE  Prediction NN 2 HL  Prediction LR  \n",
       "0   1.214969e+09    1.240000    2.420000           10.900002      -2.052977  \n",
       "1   8.595327e+08 -216.710000 -550.790000          -15.361454    -454.281335  \n",
       "2   9.679719e+08   -0.400000   -0.960000           10.796674      -5.455842  \n",
       "3   1.227710e+09   16.770000   36.430000           11.908916      30.170498  \n",
       "4   2.234734e+09   28.350000   50.580000           12.312529      54.198047  \n",
       "5   2.708106e+09    8.750000   16.050000           11.311034      13.529656  \n",
       "6  -2.376089e+08    2.689093   -6.804275           10.616660       0.953771  \n",
       "7  -3.821313e+08    3.113690   -7.800000           10.585825       1.834775  "
      ]
     },
     "execution_count": 81,
     "metadata": {},
     "output_type": "execute_result"
    }
   ],
   "source": [
    "df"
   ]
  },
  {
   "cell_type": "code",
   "execution_count": 82,
   "metadata": {},
   "outputs": [
    {
     "name": "stdout",
     "output_type": "stream",
     "text": [
      "<class 'pandas.core.frame.DataFrame'>\n",
      "RangeIndex: 8 entries, 0 to 7\n",
      "Data columns (total 9 columns):\n",
      " #   Column              Non-Null Count  Dtype         \n",
      "---  ------              --------------  -----         \n",
      " 0   TAHUN               8 non-null      datetime64[ns]\n",
      " 1   TOTAL LABA BRUTO    8 non-null      float64       \n",
      " 2   TOTAL LABA BERSIH   8 non-null      float64       \n",
      " 3   TOTAL ASET          8 non-null      float64       \n",
      " 4   TOTAL EKUITAS       8 non-null      float64       \n",
      " 5   ROA                 8 non-null      float64       \n",
      " 6   ROE                 8 non-null      float64       \n",
      " 7   Prediction NN 2 HL  8 non-null      float32       \n",
      " 8   Prediction LR       8 non-null      float64       \n",
      "dtypes: datetime64[ns](1), float32(1), float64(7)\n",
      "memory usage: 672.0 bytes\n"
     ]
    }
   ],
   "source": [
    "df.info()"
   ]
  },
  {
   "cell_type": "code",
   "execution_count": 83,
   "metadata": {},
   "outputs": [
    {
     "data": {
      "text/html": [
       "<div>\n",
       "<style scoped>\n",
       "    .dataframe tbody tr th:only-of-type {\n",
       "        vertical-align: middle;\n",
       "    }\n",
       "\n",
       "    .dataframe tbody tr th {\n",
       "        vertical-align: top;\n",
       "    }\n",
       "\n",
       "    .dataframe thead th {\n",
       "        text-align: right;\n",
       "    }\n",
       "</style>\n",
       "<table border=\"1\" class=\"dataframe\">\n",
       "  <thead>\n",
       "    <tr style=\"text-align: right;\">\n",
       "      <th></th>\n",
       "      <th>TOTAL LABA BRUTO</th>\n",
       "      <th>TOTAL LABA BERSIH</th>\n",
       "      <th>TOTAL ASET</th>\n",
       "      <th>TOTAL EKUITAS</th>\n",
       "      <th>ROA</th>\n",
       "      <th>ROE</th>\n",
       "      <th>Prediction NN 2 HL</th>\n",
       "      <th>Prediction LR</th>\n",
       "    </tr>\n",
       "    <tr>\n",
       "      <th>TAHUN</th>\n",
       "      <th></th>\n",
       "      <th></th>\n",
       "      <th></th>\n",
       "      <th></th>\n",
       "      <th></th>\n",
       "      <th></th>\n",
       "      <th></th>\n",
       "      <th></th>\n",
       "    </tr>\n",
       "  </thead>\n",
       "  <tbody>\n",
       "    <tr>\n",
       "      <th>2018-12-01</th>\n",
       "      <td>1.532553e+08</td>\n",
       "      <td>1.601574e+07</td>\n",
       "      <td>2.375409e+09</td>\n",
       "      <td>1.214969e+09</td>\n",
       "      <td>1.240000</td>\n",
       "      <td>2.420000</td>\n",
       "      <td>10.900002</td>\n",
       "      <td>-2.052977</td>\n",
       "    </tr>\n",
       "    <tr>\n",
       "      <th>2019-12-01</th>\n",
       "      <td>1.404324e+08</td>\n",
       "      <td>-1.283451e+08</td>\n",
       "      <td>1.713788e+09</td>\n",
       "      <td>8.595327e+08</td>\n",
       "      <td>-216.710000</td>\n",
       "      <td>-550.790000</td>\n",
       "      <td>-15.361454</td>\n",
       "      <td>-454.281335</td>\n",
       "    </tr>\n",
       "    <tr>\n",
       "      <th>2020-12-01</th>\n",
       "      <td>1.654747e+08</td>\n",
       "      <td>1.557089e+07</td>\n",
       "      <td>2.109741e+09</td>\n",
       "      <td>9.679719e+08</td>\n",
       "      <td>-0.400000</td>\n",
       "      <td>-0.960000</td>\n",
       "      <td>10.796674</td>\n",
       "      <td>-5.455842</td>\n",
       "    </tr>\n",
       "    <tr>\n",
       "      <th>2021-12-01</th>\n",
       "      <td>3.962646e+08</td>\n",
       "      <td>2.751081e+08</td>\n",
       "      <td>2.712382e+09</td>\n",
       "      <td>1.227710e+09</td>\n",
       "      <td>16.770000</td>\n",
       "      <td>36.430000</td>\n",
       "      <td>11.908916</td>\n",
       "      <td>30.170498</td>\n",
       "    </tr>\n",
       "    <tr>\n",
       "      <th>2022-12-01</th>\n",
       "      <td>1.012673e+09</td>\n",
       "      <td>8.557570e+08</td>\n",
       "      <td>4.230422e+09</td>\n",
       "      <td>2.234734e+09</td>\n",
       "      <td>28.350000</td>\n",
       "      <td>50.580000</td>\n",
       "      <td>12.312529</td>\n",
       "      <td>54.198047</td>\n",
       "    </tr>\n",
       "    <tr>\n",
       "      <th>2023-12-01</th>\n",
       "      <td>4.144350e+08</td>\n",
       "      <td>3.195455e+08</td>\n",
       "      <td>4.910944e+09</td>\n",
       "      <td>2.708106e+09</td>\n",
       "      <td>8.750000</td>\n",
       "      <td>16.050000</td>\n",
       "      <td>11.311034</td>\n",
       "      <td>13.529656</td>\n",
       "    </tr>\n",
       "    <tr>\n",
       "      <th>2024-12-01</th>\n",
       "      <td>1.699080e+08</td>\n",
       "      <td>-1.709075e+08</td>\n",
       "      <td>4.331186e+08</td>\n",
       "      <td>-2.376089e+08</td>\n",
       "      <td>2.689093</td>\n",
       "      <td>-6.804275</td>\n",
       "      <td>10.616660</td>\n",
       "      <td>0.953771</td>\n",
       "    </tr>\n",
       "    <tr>\n",
       "      <th>2025-12-01</th>\n",
       "      <td>2.047961e+08</td>\n",
       "      <td>-2.150376e+08</td>\n",
       "      <td>2.062505e+09</td>\n",
       "      <td>-3.821313e+08</td>\n",
       "      <td>3.113690</td>\n",
       "      <td>-7.800000</td>\n",
       "      <td>10.585825</td>\n",
       "      <td>1.834775</td>\n",
       "    </tr>\n",
       "  </tbody>\n",
       "</table>\n",
       "</div>"
      ],
      "text/plain": [
       "            TOTAL LABA BRUTO  TOTAL LABA BERSIH    TOTAL ASET  TOTAL EKUITAS  \\\n",
       "TAHUN                                                                          \n",
       "2018-12-01      1.532553e+08       1.601574e+07  2.375409e+09   1.214969e+09   \n",
       "2019-12-01      1.404324e+08      -1.283451e+08  1.713788e+09   8.595327e+08   \n",
       "2020-12-01      1.654747e+08       1.557089e+07  2.109741e+09   9.679719e+08   \n",
       "2021-12-01      3.962646e+08       2.751081e+08  2.712382e+09   1.227710e+09   \n",
       "2022-12-01      1.012673e+09       8.557570e+08  4.230422e+09   2.234734e+09   \n",
       "2023-12-01      4.144350e+08       3.195455e+08  4.910944e+09   2.708106e+09   \n",
       "2024-12-01      1.699080e+08      -1.709075e+08  4.331186e+08  -2.376089e+08   \n",
       "2025-12-01      2.047961e+08      -2.150376e+08  2.062505e+09  -3.821313e+08   \n",
       "\n",
       "                   ROA         ROE  Prediction NN 2 HL  Prediction LR  \n",
       "TAHUN                                                                  \n",
       "2018-12-01    1.240000    2.420000           10.900002      -2.052977  \n",
       "2019-12-01 -216.710000 -550.790000          -15.361454    -454.281335  \n",
       "2020-12-01   -0.400000   -0.960000           10.796674      -5.455842  \n",
       "2021-12-01   16.770000   36.430000           11.908916      30.170498  \n",
       "2022-12-01   28.350000   50.580000           12.312529      54.198047  \n",
       "2023-12-01    8.750000   16.050000           11.311034      13.529656  \n",
       "2024-12-01    2.689093   -6.804275           10.616660       0.953771  \n",
       "2025-12-01    3.113690   -7.800000           10.585825       1.834775  "
      ]
     },
     "execution_count": 83,
     "metadata": {},
     "output_type": "execute_result"
    }
   ],
   "source": [
    "df.set_index('TAHUN')"
   ]
  },
  {
   "cell_type": "markdown",
   "metadata": {},
   "source": [
    "#### Visualization"
   ]
  },
  {
   "cell_type": "code",
   "execution_count": 85,
   "metadata": {},
   "outputs": [
    {
     "data": {
      "image/png": "[encoded data removed]",
      "text/plain": [
       "<Figure size 1200x500 with 1 Axes>"
      ]
     },
     "metadata": {},
     "output_type": "display_data"
    }
   ],
   "source": [
    "# date_form = mdates.DateFormatter(\"%Y-%m\")\n",
    "\n",
    "# half_year_locator = mdates.MonthLocator(interval=6)\n",
    "# year_month_formatter = mdates.DateFormatter(\"%Y-%m\")\n",
    "# month_year_formatter = mdates.DateFormatter('%b, %Y')\n",
    "\n",
    "fig,ax = plt.subplots(figsize=(12,5))\n",
    "# ax.xaxis.set_major_locator(half_year_locator)\n",
    "# ax.xaxis.set_major_formatter(year_month_formatter)\n",
    "# ax.xaxis.set_major_formatter(month_year_formatter)\n",
    "# ax.xaxis.set_major_formatter(date_form)\n",
    "\n",
    "# fig.autofmt_xdate()\n",
    "\n",
    "# plt.figure(figsize=(25,7))\n",
    "sns.set_theme(style='white',font_scale=1.0)\n",
    "\n",
    "\n",
    "sns.lineplot(x=df['TAHUN'],y=df['ROE'],data=df,linestyle='solid',color='black',linewidth=1.5,label='Actual ROE',marker='o')\n",
    "\n",
    "sns.lineplot(x=df['TAHUN'],y=df['Prediction LR'],data=df,linestyle='dashed',color='red',linewidth=1.0,label='Prediction using Linear Regression',marker='o')\n",
    "\n",
    "plt.legend()\n",
    "plt.xlabel('Date')\n",
    "plt.ylabel('Prediction')\n",
    "plt.title('Comparison Actual & Prediction ROE Value PT. Samudera Indonesia Period 2018 - 2025 ( Tr 70% Ts 30% )')\n",
    "plt.grid(True)\n",
    "plt.show()\n"
   ]
  },
  {
   "cell_type": "code",
   "execution_count": 86,
   "metadata": {},
   "outputs": [
    {
     "data": {
      "text/plain": [
       "0      1.240000\n",
       "1   -216.710000\n",
       "2     -0.400000\n",
       "3     16.770000\n",
       "4     28.350000\n",
       "5      8.750000\n",
       "6      2.689093\n",
       "7      3.113690\n",
       "Name: ROA, dtype: float64"
      ]
     },
     "execution_count": 86,
     "metadata": {},
     "output_type": "execute_result"
    }
   ],
   "source": [
    "df['ROA']"
   ]
  },
  {
   "cell_type": "code",
   "execution_count": 87,
   "metadata": {},
   "outputs": [
    {
     "data": {
      "text/plain": [
       "0      2.420000\n",
       "1   -550.790000\n",
       "2     -0.960000\n",
       "3     36.430000\n",
       "4     50.580000\n",
       "5     16.050000\n",
       "6     -6.804275\n",
       "7     -7.800000\n",
       "Name: ROE, dtype: float64"
      ]
     },
     "execution_count": 87,
     "metadata": {},
     "output_type": "execute_result"
    }
   ],
   "source": [
    "df['ROE']"
   ]
  },
  {
   "cell_type": "markdown",
   "metadata": {},
   "source": [
    "#### Pemodelan NN"
   ]
  },
  {
   "cell_type": "code",
   "execution_count": 88,
   "metadata": {},
   "outputs": [],
   "source": [
    "import tensorflow as tf \n",
    "\n",
    "model = tf.keras.models.Sequential([\n",
    "        tf.keras.layers.Dense(units=18,input_dim=1, kernel_initializer='normal',activation='relu'),\n",
    "        tf.keras.layers.Dense(units=36,kernel_initializer='normal',activation='relu'),\n",
    "        tf.keras.layers.Dense(1,activation='sigmoid')\n",
    "])"
   ]
  },
  {
   "cell_type": "code",
   "execution_count": 89,
   "metadata": {},
   "outputs": [],
   "source": [
    "model.compile(\n",
    "    loss='mse',\n",
    "    optimizer='adam',\n",
    "    metrics=['mse']\n",
    ")"
   ]
  },
  {
   "cell_type": "code",
   "execution_count": 90,
   "metadata": {},
   "outputs": [
    {
     "name": "stdout",
     "output_type": "stream",
     "text": [
      "Epoch 1/300\n",
      "1/1 [==============================] - 1s 684ms/step - loss: 0.2030 - mse: 0.2030\n",
      "Epoch 2/300\n",
      "1/1 [==============================] - 0s 0s/step - loss: 0.2017 - mse: 0.2017\n",
      "Epoch 3/300\n",
      "1/1 [==============================] - 0s 17ms/step - loss: 0.2007 - mse: 0.2007\n",
      "Epoch 4/300\n",
      "1/1 [==============================] - 0s 0s/step - loss: 0.1999 - mse: 0.1999\n",
      "Epoch 5/300\n",
      "1/1 [==============================] - 0s 2ms/step - loss: 0.1992 - mse: 0.1992\n",
      "Epoch 6/300\n",
      "1/1 [==============================] - 0s 15ms/step - loss: 0.1986 - mse: 0.1986\n",
      "Epoch 7/300\n",
      "1/1 [==============================] - 0s 0s/step - loss: 0.1979 - mse: 0.1979\n",
      "Epoch 8/300\n",
      "1/1 [==============================] - 0s 17ms/step - loss: 0.1974 - mse: 0.1974\n",
      "Epoch 9/300\n",
      "1/1 [==============================] - 0s 13ms/step - loss: 0.1968 - mse: 0.1968\n",
      "Epoch 10/300\n",
      "1/1 [==============================] - 0s 576us/step - loss: 0.1962 - mse: 0.1962\n",
      "Epoch 11/300\n",
      "1/1 [==============================] - 0s 15ms/step - loss: 0.1956 - mse: 0.1956\n",
      "Epoch 12/300\n",
      "1/1 [==============================] - 0s 0s/step - loss: 0.1950 - mse: 0.1950\n",
      "Epoch 13/300\n",
      "1/1 [==============================] - 0s 41ms/step - loss: 0.1944 - mse: 0.1944\n",
      "Epoch 14/300\n",
      "1/1 [==============================] - 0s 10ms/step - loss: 0.1937 - mse: 0.1937\n",
      "Epoch 15/300\n",
      "1/1 [==============================] - 0s 6ms/step - loss: 0.1931 - mse: 0.1931\n",
      "Epoch 16/300\n",
      "1/1 [==============================] - 0s 0s/step - loss: 0.1924 - mse: 0.1924\n",
      "Epoch 17/300\n",
      "1/1 [==============================] - 0s 0s/step - loss: 0.1918 - mse: 0.1918\n",
      "Epoch 18/300\n",
      "1/1 [==============================] - 0s 15ms/step - loss: 0.1911 - mse: 0.1911\n",
      "Epoch 19/300\n",
      "1/1 [==============================] - 0s 0s/step - loss: 0.1904 - mse: 0.1904\n",
      "Epoch 20/300\n",
      "1/1 [==============================] - 0s 17ms/step - loss: 0.1897 - mse: 0.1897\n",
      "Epoch 21/300\n",
      "1/1 [==============================] - 0s 0s/step - loss: 0.1890 - mse: 0.1890\n",
      "Epoch 22/300\n",
      "1/1 [==============================] - 0s 4ms/step - loss: 0.1883 - mse: 0.1883\n",
      "Epoch 23/300\n",
      "1/1 [==============================] - 0s 13ms/step - loss: 0.1875 - mse: 0.1875\n",
      "Epoch 24/300\n",
      "1/1 [==============================] - 0s 0s/step - loss: 0.1868 - mse: 0.1868\n",
      "Epoch 25/300\n",
      "1/1 [==============================] - 0s 18ms/step - loss: 0.1860 - mse: 0.1860\n",
      "Epoch 26/300\n",
      "1/1 [==============================] - 0s 0s/step - loss: 0.1852 - mse: 0.1852\n",
      "Epoch 27/300\n",
      "1/1 [==============================] - 0s 3ms/step - loss: 0.1845 - mse: 0.1845\n",
      "Epoch 28/300\n",
      "1/1 [==============================] - 0s 0s/step - loss: 0.1836 - mse: 0.1836\n",
      "Epoch 29/300\n",
      "1/1 [==============================] - 0s 2ms/step - loss: 0.1828 - mse: 0.1828\n",
      "Epoch 30/300\n",
      "1/1 [==============================] - 0s 14ms/step - loss: 0.1820 - mse: 0.1820\n",
      "Epoch 31/300\n",
      "1/1 [==============================] - 0s 0s/step - loss: 0.1811 - mse: 0.1811\n",
      "Epoch 32/300\n",
      "1/1 [==============================] - 0s 17ms/step - loss: 0.1802 - mse: 0.1802\n",
      "Epoch 33/300\n",
      "1/1 [==============================] - 0s 0s/step - loss: 0.1793 - mse: 0.1793\n",
      "Epoch 34/300\n",
      "1/1 [==============================] - 0s 1ms/step - loss: 0.1784 - mse: 0.1784\n",
      "Epoch 35/300\n",
      "1/1 [==============================] - 0s 16ms/step - loss: 0.1775 - mse: 0.1775\n",
      "Epoch 36/300\n",
      "1/1 [==============================] - 0s 0s/step - loss: 0.1765 - mse: 0.1765\n",
      "Epoch 37/300\n",
      "1/1 [==============================] - 0s 16ms/step - loss: 0.1755 - mse: 0.1755\n",
      "Epoch 38/300\n",
      "1/1 [==============================] - 0s 0s/step - loss: 0.1745 - mse: 0.1745\n",
      "Epoch 39/300\n",
      "1/1 [==============================] - 0s 1ms/step - loss: 0.1734 - mse: 0.1734\n",
      "Epoch 40/300\n",
      "1/1 [==============================] - 0s 14ms/step - loss: 0.1724 - mse: 0.1724\n",
      "Epoch 41/300\n",
      "1/1 [==============================] - 0s 0s/step - loss: 0.1713 - mse: 0.1713\n",
      "Epoch 42/300\n",
      "1/1 [==============================] - 0s 17ms/step - loss: 0.1702 - mse: 0.1702\n",
      "Epoch 43/300\n",
      "1/1 [==============================] - 0s 17ms/step - loss: 0.1691 - mse: 0.1691\n",
      "Epoch 44/300\n",
      "1/1 [==============================] - 0s 15ms/step - loss: 0.1679 - mse: 0.1679\n",
      "Epoch 45/300\n",
      "1/1 [==============================] - 0s 12ms/step - loss: 0.1668 - mse: 0.1668\n",
      "Epoch 46/300\n",
      "1/1 [==============================] - 0s 0s/step - loss: 0.1656 - mse: 0.1656\n",
      "Epoch 47/300\n",
      "1/1 [==============================] - 0s 17ms/step - loss: 0.1644 - mse: 0.1644\n",
      "Epoch 48/300\n",
      "1/1 [==============================] - 0s 0s/step - loss: 0.1632 - mse: 0.1632\n",
      "Epoch 49/300\n",
      "1/1 [==============================] - 0s 0s/step - loss: 0.1619 - mse: 0.1619\n",
      "Epoch 50/300\n",
      "1/1 [==============================] - 0s 17ms/step - loss: 0.1607 - mse: 0.1607\n",
      "Epoch 51/300\n",
      "1/1 [==============================] - 0s 0s/step - loss: 0.1594 - mse: 0.1594\n",
      "Epoch 52/300\n",
      "1/1 [==============================] - 0s 18ms/step - loss: 0.1581 - mse: 0.1581\n",
      "Epoch 53/300\n",
      "1/1 [==============================] - 0s 0s/step - loss: 0.1567 - mse: 0.1567\n",
      "Epoch 54/300\n",
      "1/1 [==============================] - 0s 1ms/step - loss: 0.1554 - mse: 0.1554\n",
      "Epoch 55/300\n",
      "1/1 [==============================] - 0s 15ms/step - loss: 0.1540 - mse: 0.1540\n",
      "Epoch 56/300\n",
      "1/1 [==============================] - 0s 0s/step - loss: 0.1526 - mse: 0.1526\n",
      "Epoch 57/300\n",
      "1/1 [==============================] - 0s 16ms/step - loss: 0.1512 - mse: 0.1512\n",
      "Epoch 58/300\n",
      "1/1 [==============================] - 0s 0s/step - loss: 0.1497 - mse: 0.1497\n",
      "Epoch 59/300\n",
      "1/1 [==============================] - 0s 2ms/step - loss: 0.1482 - mse: 0.1482\n",
      "Epoch 60/300\n",
      "1/1 [==============================] - 0s 14ms/step - loss: 0.1467 - mse: 0.1467\n",
      "Epoch 61/300\n",
      "1/1 [==============================] - 0s 0s/step - loss: 0.1452 - mse: 0.1452\n",
      "Epoch 62/300\n",
      "1/1 [==============================] - 0s 18ms/step - loss: 0.1437 - mse: 0.1437\n",
      "Epoch 63/300\n",
      "1/1 [==============================] - 0s 0s/step - loss: 0.1421 - mse: 0.1421\n",
      "Epoch 64/300\n",
      "1/1 [==============================] - 0s 3ms/step - loss: 0.1405 - mse: 0.1405\n",
      "Epoch 65/300\n",
      "1/1 [==============================] - 0s 14ms/step - loss: 0.1389 - mse: 0.1389\n",
      "Epoch 66/300\n",
      "1/1 [==============================] - 0s 0s/step - loss: 0.1373 - mse: 0.1373\n",
      "Epoch 67/300\n",
      "1/1 [==============================] - 0s 16ms/step - loss: 0.1356 - mse: 0.1356\n",
      "Epoch 68/300\n",
      "1/1 [==============================] - 0s 0s/step - loss: 0.1340 - mse: 0.1340\n",
      "Epoch 69/300\n",
      "1/1 [==============================] - 0s 3ms/step - loss: 0.1323 - mse: 0.1323\n",
      "Epoch 70/300\n",
      "1/1 [==============================] - 0s 13ms/step - loss: 0.1305 - mse: 0.1305\n",
      "Epoch 71/300\n",
      "1/1 [==============================] - 0s 0s/step - loss: 0.1288 - mse: 0.1288\n",
      "Epoch 72/300\n",
      "1/1 [==============================] - 0s 18ms/step - loss: 0.1270 - mse: 0.1270\n",
      "Epoch 73/300\n",
      "1/1 [==============================] - 0s 37ms/step - loss: 0.1253 - mse: 0.1253\n",
      "Epoch 74/300\n",
      "1/1 [==============================] - 0s 10ms/step - loss: 0.1235 - mse: 0.1235\n",
      "Epoch 75/300\n",
      "1/1 [==============================] - 0s 10ms/step - loss: 0.1217 - mse: 0.1217\n",
      "Epoch 76/300\n",
      "1/1 [==============================] - 0s 2ms/step - loss: 0.1198 - mse: 0.1198\n",
      "Epoch 77/300\n",
      "1/1 [==============================] - 0s 14ms/step - loss: 0.1180 - mse: 0.1180\n",
      "Epoch 78/300\n",
      "1/1 [==============================] - 0s 12ms/step - loss: 0.1162 - mse: 0.1162\n",
      "Epoch 79/300\n",
      "1/1 [==============================] - 0s 861us/step - loss: 0.1143 - mse: 0.1143\n",
      "Epoch 80/300\n",
      "1/1 [==============================] - 0s 16ms/step - loss: 0.1124 - mse: 0.1124\n",
      "Epoch 81/300\n",
      "1/1 [==============================] - 0s 0s/step - loss: 0.1105 - mse: 0.1105\n",
      "Epoch 82/300\n",
      "1/1 [==============================] - 0s 4ms/step - loss: 0.1086 - mse: 0.1086\n",
      "Epoch 83/300\n",
      "1/1 [==============================] - 0s 12ms/step - loss: 0.1067 - mse: 0.1067\n",
      "Epoch 84/300\n",
      "1/1 [==============================] - 0s 0s/step - loss: 0.1048 - mse: 0.1048\n",
      "Epoch 85/300\n",
      "1/1 [==============================] - 0s 16ms/step - loss: 0.1029 - mse: 0.1029\n",
      "Epoch 86/300\n",
      "1/1 [==============================] - 0s 0s/step - loss: 0.1009 - mse: 0.1009\n",
      "Epoch 87/300\n",
      "1/1 [==============================] - 0s 4ms/step - loss: 0.0990 - mse: 0.0990\n",
      "Epoch 88/300\n",
      "1/1 [==============================] - 0s 12ms/step - loss: 0.0971 - mse: 0.0971\n",
      "Epoch 89/300\n",
      "1/1 [==============================] - 0s 3ms/step - loss: 0.0951 - mse: 0.0951\n",
      "Epoch 90/300\n",
      "1/1 [==============================] - 0s 14ms/step - loss: 0.0932 - mse: 0.0932\n",
      "Epoch 91/300\n",
      "1/1 [==============================] - 0s 0s/step - loss: 0.0912 - mse: 0.0912\n",
      "Epoch 92/300\n",
      "1/1 [==============================] - 0s 7ms/step - loss: 0.0893 - mse: 0.0893\n",
      "Epoch 93/300\n",
      "1/1 [==============================] - 0s 0s/step - loss: 0.0874 - mse: 0.0874\n",
      "Epoch 94/300\n",
      "1/1 [==============================] - 0s 4ms/step - loss: 0.0855 - mse: 0.0855\n",
      "Epoch 95/300\n",
      "1/1 [==============================] - 0s 11ms/step - loss: 0.0835 - mse: 0.0835\n",
      "Epoch 96/300\n",
      "1/1 [==============================] - 0s 3ms/step - loss: 0.0816 - mse: 0.0816\n",
      "Epoch 97/300\n",
      "1/1 [==============================] - 0s 12ms/step - loss: 0.0797 - mse: 0.0797\n",
      "Epoch 98/300\n",
      "1/1 [==============================] - 0s 0s/step - loss: 0.0778 - mse: 0.0778\n",
      "Epoch 99/300\n",
      "1/1 [==============================] - 0s 15ms/step - loss: 0.0760 - mse: 0.0760\n",
      "Epoch 100/300\n",
      "1/1 [==============================] - 0s 301us/step - loss: 0.0741 - mse: 0.0741\n",
      "Epoch 101/300\n",
      "1/1 [==============================] - 0s 15ms/step - loss: 0.0723 - mse: 0.0723\n",
      "Epoch 102/300\n",
      "1/1 [==============================] - 0s 0s/step - loss: 0.0704 - mse: 0.0704\n",
      "Epoch 103/300\n",
      "1/1 [==============================] - 0s 4ms/step - loss: 0.0686 - mse: 0.0686\n",
      "Epoch 104/300\n",
      "1/1 [==============================] - 0s 21ms/step - loss: 0.0668 - mse: 0.0668\n",
      "Epoch 105/300\n",
      "1/1 [==============================] - 0s 7ms/step - loss: 0.0651 - mse: 0.0651\n",
      "Epoch 106/300\n",
      "1/1 [==============================] - 0s 3ms/step - loss: 0.0633 - mse: 0.0633\n",
      "Epoch 107/300\n",
      "1/1 [==============================] - 0s 15ms/step - loss: 0.0616 - mse: 0.0616\n",
      "Epoch 108/300\n",
      "1/1 [==============================] - 0s 0s/step - loss: 0.0599 - mse: 0.0599\n",
      "Epoch 109/300\n",
      "1/1 [==============================] - 0s 17ms/step - loss: 0.0582 - mse: 0.0582\n",
      "Epoch 110/300\n",
      "1/1 [==============================] - 0s 0s/step - loss: 0.0565 - mse: 0.0565\n",
      "Epoch 111/300\n",
      "1/1 [==============================] - 0s 16ms/step - loss: 0.0549 - mse: 0.0549\n",
      "Epoch 112/300\n",
      "1/1 [==============================] - 0s 0s/step - loss: 0.0533 - mse: 0.0533\n",
      "Epoch 113/300\n",
      "1/1 [==============================] - 0s 5ms/step - loss: 0.0517 - mse: 0.0517\n",
      "Epoch 114/300\n",
      "1/1 [==============================] - 0s 0s/step - loss: 0.0502 - mse: 0.0502\n",
      "Epoch 115/300\n",
      "1/1 [==============================] - 0s 4ms/step - loss: 0.0487 - mse: 0.0487\n",
      "Epoch 116/300\n",
      "1/1 [==============================] - 0s 11ms/step - loss: 0.0472 - mse: 0.0472\n",
      "Epoch 117/300\n",
      "1/1 [==============================] - 0s 499us/step - loss: 0.0457 - mse: 0.0457\n",
      "Epoch 118/300\n",
      "1/1 [==============================] - 0s 14ms/step - loss: 0.0443 - mse: 0.0443\n",
      "Epoch 119/300\n",
      "1/1 [==============================] - 0s 584us/step - loss: 0.0429 - mse: 0.0429\n",
      "Epoch 120/300\n",
      "1/1 [==============================] - 0s 14ms/step - loss: 0.0416 - mse: 0.0416\n",
      "Epoch 121/300\n",
      "1/1 [==============================] - 0s 0s/step - loss: 0.0403 - mse: 0.0403\n",
      "Epoch 122/300\n",
      "1/1 [==============================] - 0s 15ms/step - loss: 0.0390 - mse: 0.0390\n",
      "Epoch 123/300\n",
      "1/1 [==============================] - 0s 0s/step - loss: 0.0377 - mse: 0.0377\n",
      "Epoch 124/300\n",
      "1/1 [==============================] - 0s 16ms/step - loss: 0.0365 - mse: 0.0365\n",
      "Epoch 125/300\n",
      "1/1 [==============================] - 0s 0s/step - loss: 0.0353 - mse: 0.0353\n",
      "Epoch 126/300\n",
      "1/1 [==============================] - 0s 16ms/step - loss: 0.0341 - mse: 0.0341\n",
      "Epoch 127/300\n",
      "1/1 [==============================] - 0s 0s/step - loss: 0.0330 - mse: 0.0330\n",
      "Epoch 128/300\n",
      "1/1 [==============================] - 0s 15ms/step - loss: 0.0319 - mse: 0.0319\n",
      "Epoch 129/300\n",
      "1/1 [==============================] - 0s 0s/step - loss: 0.0308 - mse: 0.0308\n",
      "Epoch 130/300\n",
      "1/1 [==============================] - 0s 5ms/step - loss: 0.0298 - mse: 0.0298\n",
      "Epoch 131/300\n",
      "1/1 [==============================] - 0s 41ms/step - loss: 0.0288 - mse: 0.0288\n",
      "Epoch 132/300\n",
      "1/1 [==============================] - 0s 7ms/step - loss: 0.0278 - mse: 0.0278\n",
      "Epoch 133/300\n",
      "1/1 [==============================] - 0s 9ms/step - loss: 0.0269 - mse: 0.0269\n",
      "Epoch 134/300\n",
      "1/1 [==============================] - 0s 0s/step - loss: 0.0260 - mse: 0.0260\n",
      "Epoch 135/300\n",
      "1/1 [==============================] - 0s 17ms/step - loss: 0.0251 - mse: 0.0251\n",
      "Epoch 136/300\n",
      "1/1 [==============================] - 0s 0s/step - loss: 0.0242 - mse: 0.0242\n",
      "Epoch 137/300\n",
      "1/1 [==============================] - 0s 18ms/step - loss: 0.0234 - mse: 0.0234\n",
      "Epoch 138/300\n",
      "1/1 [==============================] - 0s 0s/step - loss: 0.0226 - mse: 0.0226\n",
      "Epoch 139/300\n",
      "1/1 [==============================] - 0s 17ms/step - loss: 0.0218 - mse: 0.0218\n",
      "Epoch 140/300\n",
      "1/1 [==============================] - 0s 0s/step - loss: 0.0211 - mse: 0.0211\n",
      "Epoch 141/300\n",
      "1/1 [==============================] - 0s 5ms/step - loss: 0.0204 - mse: 0.0204\n",
      "Epoch 142/300\n",
      "1/1 [==============================] - 0s 11ms/step - loss: 0.0197 - mse: 0.0197\n",
      "Epoch 143/300\n",
      "1/1 [==============================] - 0s 2ms/step - loss: 0.0190 - mse: 0.0190\n",
      "Epoch 144/300\n",
      "1/1 [==============================] - 0s 13ms/step - loss: 0.0184 - mse: 0.0184\n",
      "Epoch 145/300\n",
      "1/1 [==============================] - 0s 0s/step - loss: 0.0178 - mse: 0.0178\n",
      "Epoch 146/300\n",
      "1/1 [==============================] - 0s 13ms/step - loss: 0.0172 - mse: 0.0172\n",
      "Epoch 147/300\n",
      "1/1 [==============================] - 0s 0s/step - loss: 0.0166 - mse: 0.0166\n",
      "Epoch 148/300\n",
      "1/1 [==============================] - 0s 15ms/step - loss: 0.0160 - mse: 0.0160\n",
      "Epoch 149/300\n",
      "1/1 [==============================] - 0s 0s/step - loss: 0.0155 - mse: 0.0155\n",
      "Epoch 150/300\n",
      "1/1 [==============================] - 0s 15ms/step - loss: 0.0150 - mse: 0.0150\n",
      "Epoch 151/300\n",
      "1/1 [==============================] - 0s 0s/step - loss: 0.0145 - mse: 0.0145\n",
      "Epoch 152/300\n",
      "1/1 [==============================] - 0s 5ms/step - loss: 0.0140 - mse: 0.0140\n",
      "Epoch 153/300\n",
      "1/1 [==============================] - 0s 0s/step - loss: 0.0136 - mse: 0.0136\n",
      "Epoch 154/300\n",
      "1/1 [==============================] - 0s 4ms/step - loss: 0.0131 - mse: 0.0131\n",
      "Epoch 155/300\n",
      "1/1 [==============================] - 0s 0s/step - loss: 0.0127 - mse: 0.0127\n",
      "Epoch 156/300\n",
      "1/1 [==============================] - 0s 2ms/step - loss: 0.0123 - mse: 0.0123\n",
      "Epoch 157/300\n",
      "1/1 [==============================] - 0s 0s/step - loss: 0.0119 - mse: 0.0119\n",
      "Epoch 158/300\n",
      "1/1 [==============================] - 0s 2ms/step - loss: 0.0115 - mse: 0.0115\n",
      "Epoch 159/300\n",
      "1/1 [==============================] - 0s 2ms/step - loss: 0.0112 - mse: 0.0112\n",
      "Epoch 160/300\n",
      "1/1 [==============================] - 0s 325us/step - loss: 0.0108 - mse: 0.0108\n",
      "Epoch 161/300\n",
      "1/1 [==============================] - 0s 15ms/step - loss: 0.0105 - mse: 0.0105\n",
      "Epoch 162/300\n",
      "1/1 [==============================] - 0s 0s/step - loss: 0.0102 - mse: 0.0102\n",
      "Epoch 163/300\n",
      "1/1 [==============================] - 0s 19ms/step - loss: 0.0099 - mse: 0.0099\n",
      "Epoch 164/300\n",
      "1/1 [==============================] - 0s 704us/step - loss: 0.0096 - mse: 0.0096\n",
      "Epoch 165/300\n",
      "1/1 [==============================] - 0s 4ms/step - loss: 0.0093 - mse: 0.0093\n",
      "Epoch 166/300\n",
      "1/1 [==============================] - 0s 12ms/step - loss: 0.0090 - mse: 0.0090\n",
      "Epoch 167/300\n",
      "1/1 [==============================] - 0s 0s/step - loss: 0.0087 - mse: 0.0087\n",
      "Epoch 168/300\n",
      "1/1 [==============================] - 0s 15ms/step - loss: 0.0085 - mse: 0.0085\n",
      "Epoch 169/300\n",
      "1/1 [==============================] - 0s 0s/step - loss: 0.0082 - mse: 0.0082\n",
      "Epoch 170/300\n",
      "1/1 [==============================] - 0s 4ms/step - loss: 0.0080 - mse: 0.0080\n",
      "Epoch 171/300\n",
      "1/1 [==============================] - 0s 0s/step - loss: 0.0078 - mse: 0.0078\n",
      "Epoch 172/300\n",
      "1/1 [==============================] - 0s 7ms/step - loss: 0.0076 - mse: 0.0076\n",
      "Epoch 173/300\n",
      "1/1 [==============================] - 0s 7ms/step - loss: 0.0074 - mse: 0.0074\n",
      "Epoch 174/300\n",
      "1/1 [==============================] - 0s 4ms/step - loss: 0.0072 - mse: 0.0072\n",
      "Epoch 175/300\n",
      "1/1 [==============================] - 0s 6ms/step - loss: 0.0070 - mse: 0.0070\n",
      "Epoch 176/300\n",
      "1/1 [==============================] - 0s 0s/step - loss: 0.0068 - mse: 0.0068\n",
      "Epoch 177/300\n",
      "1/1 [==============================] - 0s 6ms/step - loss: 0.0066 - mse: 0.0066\n",
      "Epoch 178/300\n",
      "1/1 [==============================] - 0s 12ms/step - loss: 0.0064 - mse: 0.0064\n",
      "Epoch 179/300\n",
      "1/1 [==============================] - 0s 4ms/step - loss: 0.0063 - mse: 0.0063\n",
      "Epoch 180/300\n",
      "1/1 [==============================] - 0s 14ms/step - loss: 0.0061 - mse: 0.0061\n",
      "Epoch 181/300\n",
      "1/1 [==============================] - 0s 0s/step - loss: 0.0059 - mse: 0.0059\n",
      "Epoch 182/300\n",
      "1/1 [==============================] - 0s 7ms/step - loss: 0.0058 - mse: 0.0058\n",
      "Epoch 183/300\n",
      "1/1 [==============================] - 0s 10ms/step - loss: 0.0057 - mse: 0.0057\n",
      "Epoch 184/300\n",
      "1/1 [==============================] - 0s 1ms/step - loss: 0.0055 - mse: 0.0055\n",
      "Epoch 185/300\n",
      "1/1 [==============================] - 0s 13ms/step - loss: 0.0054 - mse: 0.0054\n",
      "Epoch 186/300\n",
      "1/1 [==============================] - 0s 0s/step - loss: 0.0053 - mse: 0.0053\n",
      "Epoch 187/300\n",
      "1/1 [==============================] - 0s 8ms/step - loss: 0.0051 - mse: 0.0051\n",
      "Epoch 188/300\n",
      "1/1 [==============================] - 0s 35ms/step - loss: 0.0050 - mse: 0.0050\n",
      "Epoch 189/300\n",
      "1/1 [==============================] - 0s 0s/step - loss: 0.0049 - mse: 0.0049\n",
      "Epoch 190/300\n",
      "1/1 [==============================] - 0s 20ms/step - loss: 0.0048 - mse: 0.0048\n",
      "Epoch 191/300\n",
      "1/1 [==============================] - 0s 14ms/step - loss: 0.0047 - mse: 0.0047\n",
      "Epoch 192/300\n",
      "1/1 [==============================] - 0s 0s/step - loss: 0.0046 - mse: 0.0046\n",
      "Epoch 193/300\n",
      "1/1 [==============================] - 0s 18ms/step - loss: 0.0045 - mse: 0.0045\n",
      "Epoch 194/300\n",
      "1/1 [==============================] - 0s 0s/step - loss: 0.0044 - mse: 0.0044\n",
      "Epoch 195/300\n",
      "1/1 [==============================] - 0s 5ms/step - loss: 0.0043 - mse: 0.0043\n",
      "Epoch 196/300\n",
      "1/1 [==============================] - 0s 0s/step - loss: 0.0042 - mse: 0.0042\n",
      "Epoch 197/300\n",
      "1/1 [==============================] - 0s 3ms/step - loss: 0.0041 - mse: 0.0041\n",
      "Epoch 198/300\n",
      "1/1 [==============================] - 0s 12ms/step - loss: 0.0040 - mse: 0.0040\n",
      "Epoch 199/300\n",
      "1/1 [==============================] - 0s 0s/step - loss: 0.0039 - mse: 0.0039\n",
      "Epoch 200/300\n",
      "1/1 [==============================] - 0s 15ms/step - loss: 0.0039 - mse: 0.0039\n",
      "Epoch 201/300\n",
      "1/1 [==============================] - 0s 6ms/step - loss: 0.0038 - mse: 0.0038\n",
      "Epoch 202/300\n",
      "1/1 [==============================] - 0s 11ms/step - loss: 0.0037 - mse: 0.0037\n",
      "Epoch 203/300\n",
      "1/1 [==============================] - 0s 0s/step - loss: 0.0037 - mse: 0.0037\n",
      "Epoch 204/300\n",
      "1/1 [==============================] - 0s 6ms/step - loss: 0.0036 - mse: 0.0036\n",
      "Epoch 205/300\n",
      "1/1 [==============================] - 0s 17ms/step - loss: 0.0035 - mse: 0.0035\n",
      "Epoch 206/300\n",
      "1/1 [==============================] - 0s 0s/step - loss: 0.0035 - mse: 0.0035\n",
      "Epoch 207/300\n",
      "1/1 [==============================] - 0s 4ms/step - loss: 0.0034 - mse: 0.0034\n",
      "Epoch 208/300\n",
      "1/1 [==============================] - 0s 11ms/step - loss: 0.0033 - mse: 0.0033\n",
      "Epoch 209/300\n",
      "1/1 [==============================] - 0s 4ms/step - loss: 0.0033 - mse: 0.0033\n",
      "Epoch 210/300\n",
      "1/1 [==============================] - 0s 11ms/step - loss: 0.0032 - mse: 0.0032\n",
      "Epoch 211/300\n",
      "1/1 [==============================] - 0s 1ms/step - loss: 0.0032 - mse: 0.0032\n",
      "Epoch 212/300\n",
      "1/1 [==============================] - 0s 14ms/step - loss: 0.0031 - mse: 0.0031\n",
      "Epoch 213/300\n",
      "1/1 [==============================] - 0s 427us/step - loss: 0.0031 - mse: 0.0031\n",
      "Epoch 214/300\n",
      "1/1 [==============================] - 0s 24ms/step - loss: 0.0030 - mse: 0.0030\n",
      "Epoch 215/300\n",
      "1/1 [==============================] - 0s 0s/step - loss: 0.0030 - mse: 0.0030\n",
      "Epoch 216/300\n",
      "1/1 [==============================] - 0s 21ms/step - loss: 0.0029 - mse: 0.0029\n",
      "Epoch 217/300\n",
      "1/1 [==============================] - 0s 0s/step - loss: 0.0029 - mse: 0.0029\n",
      "Epoch 218/300\n",
      "1/1 [==============================] - 0s 7ms/step - loss: 0.0028 - mse: 0.0028\n",
      "Epoch 219/300\n",
      "1/1 [==============================] - 0s 0s/step - loss: 0.0028 - mse: 0.0028\n",
      "Epoch 220/300\n",
      "1/1 [==============================] - 0s 4ms/step - loss: 0.0027 - mse: 0.0027\n",
      "Epoch 221/300\n",
      "1/1 [==============================] - 0s 11ms/step - loss: 0.0027 - mse: 0.0027\n",
      "Epoch 222/300\n",
      "1/1 [==============================] - 0s 3ms/step - loss: 0.0027 - mse: 0.0027\n",
      "Epoch 223/300\n",
      "1/1 [==============================] - 0s 10ms/step - loss: 0.0026 - mse: 0.0026\n",
      "Epoch 224/300\n",
      "1/1 [==============================] - 0s 5ms/step - loss: 0.0026 - mse: 0.0026\n",
      "Epoch 225/300\n",
      "1/1 [==============================] - 0s 10ms/step - loss: 0.0025 - mse: 0.0025\n",
      "Epoch 226/300\n",
      "1/1 [==============================] - 0s 0s/step - loss: 0.0025 - mse: 0.0025\n",
      "Epoch 227/300\n",
      "1/1 [==============================] - 0s 15ms/step - loss: 0.0025 - mse: 0.0025\n",
      "Epoch 228/300\n",
      "1/1 [==============================] - 0s 0s/step - loss: 0.0024 - mse: 0.0024\n",
      "Epoch 229/300\n",
      "1/1 [==============================] - 0s 15ms/step - loss: 0.0024 - mse: 0.0024\n",
      "Epoch 230/300\n",
      "1/1 [==============================] - 0s 0s/step - loss: 0.0024 - mse: 0.0024\n",
      "Epoch 231/300\n",
      "1/1 [==============================] - 0s 15ms/step - loss: 0.0023 - mse: 0.0023\n",
      "Epoch 232/300\n",
      "1/1 [==============================] - 0s 0s/step - loss: 0.0023 - mse: 0.0023\n",
      "Epoch 233/300\n",
      "1/1 [==============================] - 0s 6ms/step - loss: 0.0023 - mse: 0.0023\n",
      "Epoch 234/300\n",
      "1/1 [==============================] - 0s 37ms/step - loss: 0.0023 - mse: 0.0023\n",
      "Epoch 235/300\n",
      "1/1 [==============================] - 0s 6ms/step - loss: 0.0022 - mse: 0.0022\n",
      "Epoch 236/300\n",
      "1/1 [==============================] - 0s 9ms/step - loss: 0.0022 - mse: 0.0022\n",
      "Epoch 237/300\n",
      "1/1 [==============================] - 0s 850us/step - loss: 0.0022 - mse: 0.0022\n",
      "Epoch 238/300\n",
      "1/1 [==============================] - 0s 2ms/step - loss: 0.0022 - mse: 0.0022\n",
      "Epoch 239/300\n",
      "1/1 [==============================] - 0s 0s/step - loss: 0.0021 - mse: 0.0021\n",
      "Epoch 240/300\n",
      "1/1 [==============================] - 0s 0s/step - loss: 0.0021 - mse: 0.0021\n",
      "Epoch 241/300\n",
      "1/1 [==============================] - 0s 14ms/step - loss: 0.0021 - mse: 0.0021\n",
      "Epoch 242/300\n",
      "1/1 [==============================] - 0s 0s/step - loss: 0.0021 - mse: 0.0021\n",
      "Epoch 243/300\n",
      "1/1 [==============================] - 0s 16ms/step - loss: 0.0020 - mse: 0.0020\n",
      "Epoch 244/300\n",
      "1/1 [==============================] - 0s 0s/step - loss: 0.0020 - mse: 0.0020\n",
      "Epoch 245/300\n",
      "1/1 [==============================] - 0s 17ms/step - loss: 0.0020 - mse: 0.0020\n",
      "Epoch 246/300\n",
      "1/1 [==============================] - 0s 0s/step - loss: 0.0020 - mse: 0.0020\n",
      "Epoch 247/300\n",
      "1/1 [==============================] - 0s 18ms/step - loss: 0.0020 - mse: 0.0020\n",
      "Epoch 248/300\n",
      "1/1 [==============================] - 0s 0s/step - loss: 0.0019 - mse: 0.0019\n",
      "Epoch 249/300\n",
      "1/1 [==============================] - 0s 15ms/step - loss: 0.0019 - mse: 0.0019\n",
      "Epoch 250/300\n",
      "1/1 [==============================] - 0s 0s/step - loss: 0.0019 - mse: 0.0019\n",
      "Epoch 251/300\n",
      "1/1 [==============================] - 0s 2ms/step - loss: 0.0019 - mse: 0.0019\n",
      "Epoch 252/300\n",
      "1/1 [==============================] - 0s 0s/step - loss: 0.0019 - mse: 0.0019\n",
      "Epoch 253/300\n",
      "1/1 [==============================] - 0s 262us/step - loss: 0.0019 - mse: 0.0019\n",
      "Epoch 254/300\n",
      "1/1 [==============================] - 0s 16ms/step - loss: 0.0018 - mse: 0.0018\n",
      "Epoch 255/300\n",
      "1/1 [==============================] - 0s 0s/step - loss: 0.0018 - mse: 0.0018\n",
      "Epoch 256/300\n",
      "1/1 [==============================] - 0s 16ms/step - loss: 0.0018 - mse: 0.0018\n",
      "Epoch 257/300\n",
      "1/1 [==============================] - 0s 0s/step - loss: 0.0018 - mse: 0.0018\n",
      "Epoch 258/300\n",
      "1/1 [==============================] - 0s 30ms/step - loss: 0.0018 - mse: 0.0018\n",
      "Epoch 259/300\n",
      "1/1 [==============================] - 0s 9ms/step - loss: 0.0018 - mse: 0.0018\n",
      "Epoch 260/300\n",
      "1/1 [==============================] - 0s 0s/step - loss: 0.0017 - mse: 0.0017\n",
      "Epoch 261/300\n",
      "1/1 [==============================] - 0s 17ms/step - loss: 0.0017 - mse: 0.0017\n",
      "Epoch 262/300\n",
      "1/1 [==============================] - 0s 0s/step - loss: 0.0017 - mse: 0.0017\n",
      "Epoch 263/300\n",
      "1/1 [==============================] - 0s 16ms/step - loss: 0.0017 - mse: 0.0017\n",
      "Epoch 264/300\n",
      "1/1 [==============================] - 0s 0s/step - loss: 0.0017 - mse: 0.0017\n",
      "Epoch 265/300\n",
      "1/1 [==============================] - 0s 17ms/step - loss: 0.0017 - mse: 0.0017\n",
      "Epoch 266/300\n",
      "1/1 [==============================] - 0s 0s/step - loss: 0.0017 - mse: 0.0017\n",
      "Epoch 267/300\n",
      "1/1 [==============================] - 0s 3ms/step - loss: 0.0017 - mse: 0.0017\n",
      "Epoch 268/300\n",
      "1/1 [==============================] - 0s 0s/step - loss: 0.0016 - mse: 0.0016\n",
      "Epoch 269/300\n",
      "1/1 [==============================] - 0s 934us/step - loss: 0.0016 - mse: 0.0016\n",
      "Epoch 270/300\n",
      "1/1 [==============================] - 0s 14ms/step - loss: 0.0016 - mse: 0.0016\n",
      "Epoch 271/300\n",
      "1/1 [==============================] - 0s 0s/step - loss: 0.0016 - mse: 0.0016\n",
      "Epoch 272/300\n",
      "1/1 [==============================] - 0s 16ms/step - loss: 0.0016 - mse: 0.0016\n",
      "Epoch 273/300\n",
      "1/1 [==============================] - 0s 0s/step - loss: 0.0016 - mse: 0.0016\n",
      "Epoch 274/300\n",
      "1/1 [==============================] - 0s 17ms/step - loss: 0.0016 - mse: 0.0016\n",
      "Epoch 275/300\n",
      "1/1 [==============================] - 0s 0s/step - loss: 0.0016 - mse: 0.0016\n",
      "Epoch 276/300\n",
      "1/1 [==============================] - 0s 17ms/step - loss: 0.0016 - mse: 0.0016\n",
      "Epoch 277/300\n",
      "1/1 [==============================] - 0s 0s/step - loss: 0.0016 - mse: 0.0016\n",
      "Epoch 278/300\n",
      "1/1 [==============================] - 0s 3ms/step - loss: 0.0015 - mse: 0.0015\n",
      "Epoch 279/300\n",
      "1/1 [==============================] - 0s 0s/step - loss: 0.0015 - mse: 0.0015\n",
      "Epoch 280/300\n",
      "1/1 [==============================] - 0s 1ms/step - loss: 0.0015 - mse: 0.0015\n",
      "Epoch 281/300\n",
      "1/1 [==============================] - 0s 14ms/step - loss: 0.0015 - mse: 0.0015\n",
      "Epoch 282/300\n",
      "1/1 [==============================] - 0s 0s/step - loss: 0.0015 - mse: 0.0015\n",
      "Epoch 283/300\n",
      "1/1 [==============================] - 0s 16ms/step - loss: 0.0015 - mse: 0.0015\n",
      "Epoch 284/300\n",
      "1/1 [==============================] - 0s 0s/step - loss: 0.0015 - mse: 0.0015\n",
      "Epoch 285/300\n",
      "1/1 [==============================] - 0s 17ms/step - loss: 0.0015 - mse: 0.0015\n",
      "Epoch 286/300\n",
      "1/1 [==============================] - 0s 47ms/step - loss: 0.0015 - mse: 0.0015\n",
      "Epoch 287/300\n",
      "1/1 [==============================] - 0s 6ms/step - loss: 0.0015 - mse: 0.0015\n",
      "Epoch 288/300\n",
      "1/1 [==============================] - 0s 0s/step - loss: 0.0015 - mse: 0.0015\n",
      "Epoch 289/300\n",
      "1/1 [==============================] - 0s 19ms/step - loss: 0.0015 - mse: 0.0015\n",
      "Epoch 290/300\n",
      "1/1 [==============================] - 0s 0s/step - loss: 0.0014 - mse: 0.0014\n",
      "Epoch 291/300\n",
      "1/1 [==============================] - 0s 17ms/step - loss: 0.0014 - mse: 0.0014\n",
      "Epoch 292/300\n",
      "1/1 [==============================] - 0s 0s/step - loss: 0.0014 - mse: 0.0014\n",
      "Epoch 293/300\n",
      "1/1 [==============================] - 0s 17ms/step - loss: 0.0014 - mse: 0.0014\n",
      "Epoch 294/300\n",
      "1/1 [==============================] - 0s 0s/step - loss: 0.0014 - mse: 0.0014\n",
      "Epoch 295/300\n",
      "1/1 [==============================] - 0s 16ms/step - loss: 0.0014 - mse: 0.0014\n",
      "Epoch 296/300\n",
      "1/1 [==============================] - 0s 0s/step - loss: 0.0014 - mse: 0.0014\n",
      "Epoch 297/300\n",
      "1/1 [==============================] - 0s 17ms/step - loss: 0.0014 - mse: 0.0014\n",
      "Epoch 298/300\n",
      "1/1 [==============================] - 0s 0s/step - loss: 0.0014 - mse: 0.0014\n",
      "Epoch 299/300\n",
      "1/1 [==============================] - 0s 2ms/step - loss: 0.0014 - mse: 0.0014\n",
      "Epoch 300/300\n",
      "1/1 [==============================] - 0s 14ms/step - loss: 0.0014 - mse: 0.0014\n"
     ]
    },
    {
     "data": {
      "text/plain": [
       "<keras.src.callbacks.History at 0x2aba867b880>"
      ]
     },
     "execution_count": 90,
     "metadata": {},
     "output_type": "execute_result"
    }
   ],
   "source": [
    "model.fit(\n",
    "    X_train,Y_train,epochs=300\n",
    ")"
   ]
  },
  {
   "cell_type": "code",
   "execution_count": 91,
   "metadata": {},
   "outputs": [
    {
     "name": "stdout",
     "output_type": "stream",
     "text": [
      "Model: \"sequential_1\"\n",
      "_________________________________________________________________\n",
      " Layer (type)                Output Shape              Param #   \n",
      "=================================================================\n",
      " dense_3 (Dense)             (None, 18)                36        \n",
      "                                                                 \n",
      " dense_4 (Dense)             (None, 36)                684       \n",
      "                                                                 \n",
      " dense_5 (Dense)             (None, 1)                 37        \n",
      "                                                                 \n",
      "=================================================================\n",
      "Total params: 757 (2.96 KB)\n",
      "Trainable params: 757 (2.96 KB)\n",
      "Non-trainable params: 0 (0.00 Byte)\n",
      "_________________________________________________________________\n"
     ]
    }
   ],
   "source": [
    "model.summary()"
   ]
  },
  {
   "cell_type": "code",
   "execution_count": 92,
   "metadata": {},
   "outputs": [
    {
     "name": "stdout",
     "output_type": "stream",
     "text": [
      "1/1 [==============================] - 0s 58ms/step\n"
     ]
    },
    {
     "data": {
      "text/plain": [
       "array([[0.928478  ],\n",
       "       [0.92752326],\n",
       "       [0.82471114]], dtype=float32)"
      ]
     },
     "execution_count": 92,
     "metadata": {},
     "output_type": "execute_result"
    }
   ],
   "source": [
    "pred_nn = model.predict(X_test)\n",
    "\n",
    "pred_nn"
   ]
  },
  {
   "cell_type": "markdown",
   "metadata": {},
   "source": [
    "#### Evaluasi Model NN"
   ]
  },
  {
   "cell_type": "code",
   "execution_count": 93,
   "metadata": {},
   "outputs": [
    {
     "name": "stdout",
     "output_type": "stream",
     "text": [
      "MAE NN :  0.2872797624915037\n",
      "MSE NN :  0.22696489238081655\n",
      "RMSE NN :  0.4764083252639657\n"
     ]
    }
   ],
   "source": [
    "mae_nn = mean_absolute_error(y_pred=pred_nn,y_true=Y_test)\n",
    "print('MAE NN : ',mae_nn)\n",
    "\n",
    "mse_nn = mean_squared_error(y_pred=pred_nn,y_true=Y_test)\n",
    "print('MSE NN : ',mse_nn)\n",
    "\n",
    "rmse_nn = sqrt(mse_nn)\n",
    "print('RMSE NN : ',rmse_nn)"
   ]
  },
  {
   "cell_type": "code",
   "execution_count": 94,
   "metadata": {},
   "outputs": [
    {
     "name": "stdout",
     "output_type": "stream",
     "text": [
      "1/1 [==============================] - 0s 17ms/step\n"
     ]
    },
    {
     "data": {
      "text/plain": [
       "array([[0.92803156],\n",
       "       [0.82471114],\n",
       "       [0.92752326],\n",
       "       [0.9326848 ],\n",
       "       [0.9359711 ],\n",
       "       [0.9303177 ],\n",
       "       [0.928478  ],\n",
       "       [0.92860836]], dtype=float32)"
      ]
     },
     "execution_count": 94,
     "metadata": {},
     "output_type": "execute_result"
    }
   ],
   "source": [
    "pred_nn_dua = model.predict(scaled_X)\n",
    "\n",
    "pred_nn_dua"
   ]
  },
  {
   "cell_type": "code",
   "execution_count": 95,
   "metadata": {},
   "outputs": [
    {
     "data": {
      "text/plain": [
       "array([[  7.300341 ],\n",
       "       [-54.83346  ],\n",
       "       [  6.99466  ],\n",
       "       [ 10.098646 ],\n",
       "       [ 12.074929 ],\n",
       "       [  8.675155 ],\n",
       "       [  7.568816 ],\n",
       "       [  7.6472077]], dtype=float32)"
      ]
     },
     "execution_count": 95,
     "metadata": {},
     "output_type": "execute_result"
    }
   ],
   "source": [
    "inversed_scaled_pred_nn_dua = min_max_scaler.inverse_transform(pred_nn_dua)\n",
    "\n",
    "inversed_scaled_pred_nn_dua"
   ]
  },
  {
   "cell_type": "code",
   "execution_count": 96,
   "metadata": {},
   "outputs": [
    {
     "data": {
      "text/plain": [
       "array([  7.300341 , -54.83346  ,   6.99466  ,  10.098646 ,  12.074929 ,\n",
       "         8.675155 ,   7.568816 ,   7.6472077], dtype=float32)"
      ]
     },
     "execution_count": 96,
     "metadata": {},
     "output_type": "execute_result"
    }
   ],
   "source": [
    "inversed_scaled_pred_nn_dua = inversed_scaled_pred_nn_dua.reshape(-1)\n",
    "\n",
    "inversed_scaled_pred_nn_dua"
   ]
  },
  {
   "cell_type": "code",
   "execution_count": 97,
   "metadata": {},
   "outputs": [
    {
     "data": {
      "text/html": [
       "<div>\n",
       "<style scoped>\n",
       "    .dataframe tbody tr th:only-of-type {\n",
       "        vertical-align: middle;\n",
       "    }\n",
       "\n",
       "    .dataframe tbody tr th {\n",
       "        vertical-align: top;\n",
       "    }\n",
       "\n",
       "    .dataframe thead th {\n",
       "        text-align: right;\n",
       "    }\n",
       "</style>\n",
       "<table border=\"1\" class=\"dataframe\">\n",
       "  <thead>\n",
       "    <tr style=\"text-align: right;\">\n",
       "      <th></th>\n",
       "      <th>Prediction NN 2 HL</th>\n",
       "    </tr>\n",
       "  </thead>\n",
       "  <tbody>\n",
       "    <tr>\n",
       "      <th>0</th>\n",
       "      <td>7.300341</td>\n",
       "    </tr>\n",
       "    <tr>\n",
       "      <th>1</th>\n",
       "      <td>-54.833462</td>\n",
       "    </tr>\n",
       "    <tr>\n",
       "      <th>2</th>\n",
       "      <td>6.994660</td>\n",
       "    </tr>\n",
       "    <tr>\n",
       "      <th>3</th>\n",
       "      <td>10.098646</td>\n",
       "    </tr>\n",
       "    <tr>\n",
       "      <th>4</th>\n",
       "      <td>12.074929</td>\n",
       "    </tr>\n",
       "    <tr>\n",
       "      <th>5</th>\n",
       "      <td>8.675155</td>\n",
       "    </tr>\n",
       "    <tr>\n",
       "      <th>6</th>\n",
       "      <td>7.568816</td>\n",
       "    </tr>\n",
       "    <tr>\n",
       "      <th>7</th>\n",
       "      <td>7.647208</td>\n",
       "    </tr>\n",
       "  </tbody>\n",
       "</table>\n",
       "</div>"
      ],
      "text/plain": [
       "   Prediction NN 2 HL\n",
       "0            7.300341\n",
       "1          -54.833462\n",
       "2            6.994660\n",
       "3           10.098646\n",
       "4           12.074929\n",
       "5            8.675155\n",
       "6            7.568816\n",
       "7            7.647208"
      ]
     },
     "execution_count": 97,
     "metadata": {},
     "output_type": "execute_result"
    }
   ],
   "source": [
    "df_pred_nn_dua = pd.DataFrame({'Prediction NN 2 HL':inversed_scaled_pred_nn_dua})\n",
    "\n",
    "df_pred_nn_dua"
   ]
  },
  {
   "cell_type": "code",
   "execution_count": 98,
   "metadata": {},
   "outputs": [
    {
     "data": {
      "text/html": [
       "<div>\n",
       "<style scoped>\n",
       "    .dataframe tbody tr th:only-of-type {\n",
       "        vertical-align: middle;\n",
       "    }\n",
       "\n",
       "    .dataframe tbody tr th {\n",
       "        vertical-align: top;\n",
       "    }\n",
       "\n",
       "    .dataframe thead th {\n",
       "        text-align: right;\n",
       "    }\n",
       "</style>\n",
       "<table border=\"1\" class=\"dataframe\">\n",
       "  <thead>\n",
       "    <tr style=\"text-align: right;\">\n",
       "      <th></th>\n",
       "      <th>TAHUN</th>\n",
       "      <th>TOTAL LABA BRUTO</th>\n",
       "      <th>TOTAL LABA BERSIH</th>\n",
       "      <th>TOTAL ASET</th>\n",
       "      <th>TOTAL EKUITAS</th>\n",
       "      <th>ROA</th>\n",
       "      <th>ROE</th>\n",
       "      <th>Prediction NN 2 HL_x</th>\n",
       "      <th>Prediction LR</th>\n",
       "      <th>Prediction NN 2 HL_y</th>\n",
       "    </tr>\n",
       "  </thead>\n",
       "  <tbody>\n",
       "    <tr>\n",
       "      <th>0</th>\n",
       "      <td>2018-12-01</td>\n",
       "      <td>1.532553e+08</td>\n",
       "      <td>1.601574e+07</td>\n",
       "      <td>2.375409e+09</td>\n",
       "      <td>1.214969e+09</td>\n",
       "      <td>1.240000</td>\n",
       "      <td>2.420000</td>\n",
       "      <td>10.900002</td>\n",
       "      <td>-2.052977</td>\n",
       "      <td>7.300341</td>\n",
       "    </tr>\n",
       "    <tr>\n",
       "      <th>1</th>\n",
       "      <td>2019-12-01</td>\n",
       "      <td>1.404324e+08</td>\n",
       "      <td>-1.283451e+08</td>\n",
       "      <td>1.713788e+09</td>\n",
       "      <td>8.595327e+08</td>\n",
       "      <td>-216.710000</td>\n",
       "      <td>-550.790000</td>\n",
       "      <td>-15.361454</td>\n",
       "      <td>-454.281335</td>\n",
       "      <td>-54.833462</td>\n",
       "    </tr>\n",
       "    <tr>\n",
       "      <th>2</th>\n",
       "      <td>2020-12-01</td>\n",
       "      <td>1.654747e+08</td>\n",
       "      <td>1.557089e+07</td>\n",
       "      <td>2.109741e+09</td>\n",
       "      <td>9.679719e+08</td>\n",
       "      <td>-0.400000</td>\n",
       "      <td>-0.960000</td>\n",
       "      <td>10.796674</td>\n",
       "      <td>-5.455842</td>\n",
       "      <td>6.994660</td>\n",
       "    </tr>\n",
       "    <tr>\n",
       "      <th>3</th>\n",
       "      <td>2021-12-01</td>\n",
       "      <td>3.962646e+08</td>\n",
       "      <td>2.751081e+08</td>\n",
       "      <td>2.712382e+09</td>\n",
       "      <td>1.227710e+09</td>\n",
       "      <td>16.770000</td>\n",
       "      <td>36.430000</td>\n",
       "      <td>11.908916</td>\n",
       "      <td>30.170498</td>\n",
       "      <td>10.098646</td>\n",
       "    </tr>\n",
       "    <tr>\n",
       "      <th>4</th>\n",
       "      <td>2022-12-01</td>\n",
       "      <td>1.012673e+09</td>\n",
       "      <td>8.557570e+08</td>\n",
       "      <td>4.230422e+09</td>\n",
       "      <td>2.234734e+09</td>\n",
       "      <td>28.350000</td>\n",
       "      <td>50.580000</td>\n",
       "      <td>12.312529</td>\n",
       "      <td>54.198047</td>\n",
       "      <td>12.074929</td>\n",
       "    </tr>\n",
       "    <tr>\n",
       "      <th>5</th>\n",
       "      <td>2023-12-01</td>\n",
       "      <td>4.144350e+08</td>\n",
       "      <td>3.195455e+08</td>\n",
       "      <td>4.910944e+09</td>\n",
       "      <td>2.708106e+09</td>\n",
       "      <td>8.750000</td>\n",
       "      <td>16.050000</td>\n",
       "      <td>11.311034</td>\n",
       "      <td>13.529656</td>\n",
       "      <td>8.675155</td>\n",
       "    </tr>\n",
       "    <tr>\n",
       "      <th>6</th>\n",
       "      <td>2024-12-01</td>\n",
       "      <td>1.699080e+08</td>\n",
       "      <td>-1.709075e+08</td>\n",
       "      <td>4.331186e+08</td>\n",
       "      <td>-2.376089e+08</td>\n",
       "      <td>2.689093</td>\n",
       "      <td>-6.804275</td>\n",
       "      <td>10.616660</td>\n",
       "      <td>0.953771</td>\n",
       "      <td>7.568816</td>\n",
       "    </tr>\n",
       "    <tr>\n",
       "      <th>7</th>\n",
       "      <td>2025-12-01</td>\n",
       "      <td>2.047961e+08</td>\n",
       "      <td>-2.150376e+08</td>\n",
       "      <td>2.062505e+09</td>\n",
       "      <td>-3.821313e+08</td>\n",
       "      <td>3.113690</td>\n",
       "      <td>-7.800000</td>\n",
       "      <td>10.585825</td>\n",
       "      <td>1.834775</td>\n",
       "      <td>7.647208</td>\n",
       "    </tr>\n",
       "  </tbody>\n",
       "</table>\n",
       "</div>"
      ],
      "text/plain": [
       "       TAHUN  TOTAL LABA BRUTO  TOTAL LABA BERSIH    TOTAL ASET  \\\n",
       "0 2018-12-01      1.532553e+08       1.601574e+07  2.375409e+09   \n",
       "1 2019-12-01      1.404324e+08      -1.283451e+08  1.713788e+09   \n",
       "2 2020-12-01      1.654747e+08       1.557089e+07  2.109741e+09   \n",
       "3 2021-12-01      3.962646e+08       2.751081e+08  2.712382e+09   \n",
       "4 2022-12-01      1.012673e+09       8.557570e+08  4.230422e+09   \n",
       "5 2023-12-01      4.144350e+08       3.195455e+08  4.910944e+09   \n",
       "6 2024-12-01      1.699080e+08      -1.709075e+08  4.331186e+08   \n",
       "7 2025-12-01      2.047961e+08      -2.150376e+08  2.062505e+09   \n",
       "\n",
       "   TOTAL EKUITAS         ROA         ROE  Prediction NN 2 HL_x  Prediction LR  \\\n",
       "0   1.214969e+09    1.240000    2.420000             10.900002      -2.052977   \n",
       "1   8.595327e+08 -216.710000 -550.790000            -15.361454    -454.281335   \n",
       "2   9.679719e+08   -0.400000   -0.960000             10.796674      -5.455842   \n",
       "3   1.227710e+09   16.770000   36.430000             11.908916      30.170498   \n",
       "4   2.234734e+09   28.350000   50.580000             12.312529      54.198047   \n",
       "5   2.708106e+09    8.750000   16.050000             11.311034      13.529656   \n",
       "6  -2.376089e+08    2.689093   -6.804275             10.616660       0.953771   \n",
       "7  -3.821313e+08    3.113690   -7.800000             10.585825       1.834775   \n",
       "\n",
       "   Prediction NN 2 HL_y  \n",
       "0              7.300341  \n",
       "1            -54.833462  \n",
       "2              6.994660  \n",
       "3             10.098646  \n",
       "4             12.074929  \n",
       "5              8.675155  \n",
       "6              7.568816  \n",
       "7              7.647208  "
      ]
     },
     "execution_count": 98,
     "metadata": {},
     "output_type": "execute_result"
    }
   ],
   "source": [
    "df = df.merge(df_pred_nn_dua,how='left',left_index=True,right_index=True)\n",
    "\n",
    "df"
   ]
  },
  {
   "cell_type": "code",
   "execution_count": 99,
   "metadata": {},
   "outputs": [],
   "source": [
    "df.drop(columns='Prediction NN 2 HL_x',inplace=True)\n",
    "df.rename(columns={'Prediction NN 2 HL_y':'Prediction NN 2 HL'},inplace=True)"
   ]
  },
  {
   "cell_type": "code",
   "execution_count": 100,
   "metadata": {},
   "outputs": [
    {
     "data": {
      "text/html": [
       "<div>\n",
       "<style scoped>\n",
       "    .dataframe tbody tr th:only-of-type {\n",
       "        vertical-align: middle;\n",
       "    }\n",
       "\n",
       "    .dataframe tbody tr th {\n",
       "        vertical-align: top;\n",
       "    }\n",
       "\n",
       "    .dataframe thead th {\n",
       "        text-align: right;\n",
       "    }\n",
       "</style>\n",
       "<table border=\"1\" class=\"dataframe\">\n",
       "  <thead>\n",
       "    <tr style=\"text-align: right;\">\n",
       "      <th></th>\n",
       "      <th>TAHUN</th>\n",
       "      <th>TOTAL LABA BRUTO</th>\n",
       "      <th>TOTAL LABA BERSIH</th>\n",
       "      <th>TOTAL ASET</th>\n",
       "      <th>TOTAL EKUITAS</th>\n",
       "      <th>ROA</th>\n",
       "      <th>ROE</th>\n",
       "      <th>Prediction LR</th>\n",
       "      <th>Prediction NN 2 HL</th>\n",
       "    </tr>\n",
       "  </thead>\n",
       "  <tbody>\n",
       "    <tr>\n",
       "      <th>0</th>\n",
       "      <td>2018-12-01</td>\n",
       "      <td>1.532553e+08</td>\n",
       "      <td>1.601574e+07</td>\n",
       "      <td>2.375409e+09</td>\n",
       "      <td>1.214969e+09</td>\n",
       "      <td>1.240000</td>\n",
       "      <td>2.420000</td>\n",
       "      <td>-2.052977</td>\n",
       "      <td>7.300341</td>\n",
       "    </tr>\n",
       "    <tr>\n",
       "      <th>1</th>\n",
       "      <td>2019-12-01</td>\n",
       "      <td>1.404324e+08</td>\n",
       "      <td>-1.283451e+08</td>\n",
       "      <td>1.713788e+09</td>\n",
       "      <td>8.595327e+08</td>\n",
       "      <td>-216.710000</td>\n",
       "      <td>-550.790000</td>\n",
       "      <td>-454.281335</td>\n",
       "      <td>-54.833462</td>\n",
       "    </tr>\n",
       "    <tr>\n",
       "      <th>2</th>\n",
       "      <td>2020-12-01</td>\n",
       "      <td>1.654747e+08</td>\n",
       "      <td>1.557089e+07</td>\n",
       "      <td>2.109741e+09</td>\n",
       "      <td>9.679719e+08</td>\n",
       "      <td>-0.400000</td>\n",
       "      <td>-0.960000</td>\n",
       "      <td>-5.455842</td>\n",
       "      <td>6.994660</td>\n",
       "    </tr>\n",
       "    <tr>\n",
       "      <th>3</th>\n",
       "      <td>2021-12-01</td>\n",
       "      <td>3.962646e+08</td>\n",
       "      <td>2.751081e+08</td>\n",
       "      <td>2.712382e+09</td>\n",
       "      <td>1.227710e+09</td>\n",
       "      <td>16.770000</td>\n",
       "      <td>36.430000</td>\n",
       "      <td>30.170498</td>\n",
       "      <td>10.098646</td>\n",
       "    </tr>\n",
       "    <tr>\n",
       "      <th>4</th>\n",
       "      <td>2022-12-01</td>\n",
       "      <td>1.012673e+09</td>\n",
       "      <td>8.557570e+08</td>\n",
       "      <td>4.230422e+09</td>\n",
       "      <td>2.234734e+09</td>\n",
       "      <td>28.350000</td>\n",
       "      <td>50.580000</td>\n",
       "      <td>54.198047</td>\n",
       "      <td>12.074929</td>\n",
       "    </tr>\n",
       "    <tr>\n",
       "      <th>5</th>\n",
       "      <td>2023-12-01</td>\n",
       "      <td>4.144350e+08</td>\n",
       "      <td>3.195455e+08</td>\n",
       "      <td>4.910944e+09</td>\n",
       "      <td>2.708106e+09</td>\n",
       "      <td>8.750000</td>\n",
       "      <td>16.050000</td>\n",
       "      <td>13.529656</td>\n",
       "      <td>8.675155</td>\n",
       "    </tr>\n",
       "    <tr>\n",
       "      <th>6</th>\n",
       "      <td>2024-12-01</td>\n",
       "      <td>1.699080e+08</td>\n",
       "      <td>-1.709075e+08</td>\n",
       "      <td>4.331186e+08</td>\n",
       "      <td>-2.376089e+08</td>\n",
       "      <td>2.689093</td>\n",
       "      <td>-6.804275</td>\n",
       "      <td>0.953771</td>\n",
       "      <td>7.568816</td>\n",
       "    </tr>\n",
       "    <tr>\n",
       "      <th>7</th>\n",
       "      <td>2025-12-01</td>\n",
       "      <td>2.047961e+08</td>\n",
       "      <td>-2.150376e+08</td>\n",
       "      <td>2.062505e+09</td>\n",
       "      <td>-3.821313e+08</td>\n",
       "      <td>3.113690</td>\n",
       "      <td>-7.800000</td>\n",
       "      <td>1.834775</td>\n",
       "      <td>7.647208</td>\n",
       "    </tr>\n",
       "  </tbody>\n",
       "</table>\n",
       "</div>"
      ],
      "text/plain": [
       "       TAHUN  TOTAL LABA BRUTO  TOTAL LABA BERSIH    TOTAL ASET  \\\n",
       "0 2018-12-01      1.532553e+08       1.601574e+07  2.375409e+09   \n",
       "1 2019-12-01      1.404324e+08      -1.283451e+08  1.713788e+09   \n",
       "2 2020-12-01      1.654747e+08       1.557089e+07  2.109741e+09   \n",
       "3 2021-12-01      3.962646e+08       2.751081e+08  2.712382e+09   \n",
       "4 2022-12-01      1.012673e+09       8.557570e+08  4.230422e+09   \n",
       "5 2023-12-01      4.144350e+08       3.195455e+08  4.910944e+09   \n",
       "6 2024-12-01      1.699080e+08      -1.709075e+08  4.331186e+08   \n",
       "7 2025-12-01      2.047961e+08      -2.150376e+08  2.062505e+09   \n",
       "\n",
       "   TOTAL EKUITAS         ROA         ROE  Prediction LR  Prediction NN 2 HL  \n",
       "0   1.214969e+09    1.240000    2.420000      -2.052977            7.300341  \n",
       "1   8.595327e+08 -216.710000 -550.790000    -454.281335          -54.833462  \n",
       "2   9.679719e+08   -0.400000   -0.960000      -5.455842            6.994660  \n",
       "3   1.227710e+09   16.770000   36.430000      30.170498           10.098646  \n",
       "4   2.234734e+09   28.350000   50.580000      54.198047           12.074929  \n",
       "5   2.708106e+09    8.750000   16.050000      13.529656            8.675155  \n",
       "6  -2.376089e+08    2.689093   -6.804275       0.953771            7.568816  \n",
       "7  -3.821313e+08    3.113690   -7.800000       1.834775            7.647208  "
      ]
     },
     "execution_count": 100,
     "metadata": {},
     "output_type": "execute_result"
    }
   ],
   "source": [
    "df"
   ]
  },
  {
   "cell_type": "code",
   "execution_count": 103,
   "metadata": {},
   "outputs": [
    {
     "data": {
      "image/png": "[encoded data removed]",
      "text/plain": [
       "<Figure size 1200x500 with 1 Axes>"
      ]
     },
     "metadata": {},
     "output_type": "display_data"
    }
   ],
   "source": [
    "# date_form = mdates.DateFormatter(\"%Y-%m\")\n",
    "\n",
    "# half_year_locator = mdates.MonthLocator(interval=6)\n",
    "# year_month_formatter = mdates.DateFormatter(\"%Y-%m\")\n",
    "# month_year_formatter = mdates.DateFormatter('%b, %Y')\n",
    "\n",
    "fig,ax = plt.subplots(figsize=(12,5))\n",
    "# ax.xaxis.set_major_locator(half_year_locator)\n",
    "# ax.xaxis.set_major_formatter(year_month_formatter)\n",
    "# ax.xaxis.set_major_formatter(month_year_formatter)\n",
    "# ax.xaxis.set_major_formatter(date_form)\n",
    "\n",
    "# fig.autofmt_xdate()\n",
    "\n",
    "# plt.figure(figsize=(25,7))\n",
    "sns.set_theme(style='white',font_scale=1.0)\n",
    "\n",
    "\n",
    "sns.lineplot(x=df['TAHUN'],y=df['ROE'],data=df,linestyle='solid',color='black',linewidth=1.5,label='Actual ROE',marker='o')\n",
    "\n",
    "sns.lineplot(x=df['TAHUN'],y=df['Prediction LR'],data=df,linestyle='dashed',color='red',linewidth=1.0,label='Prediction using Linear Regression',marker='o')\n",
    "\n",
    "sns.lineplot(x=df['TAHUN'],y=df['Prediction NN 2 HL'],data=df,linestyle='dashed',color='blue',linewidth=1.0,label='Prediction using Neural Network',marker='o')\n",
    "\n",
    "plt.legend()\n",
    "plt.xlabel('Date')\n",
    "plt.ylabel('Prediction')\n",
    "plt.title('Comparison Actual & Prediction ROE Value PT. Samudera Indonesia Period 2018 - 2025 ( Tr 70% Ts 30% )')\n",
    "plt.grid(True)\n",
    "plt.show()\n"
   ]
  },
  {
   "cell_type": "code",
   "execution_count": 55,
   "metadata": {},
   "outputs": [
    {
     "data": {
      "image/png": "[encoded data removed]",
      "text/plain": [
       "<Figure size 1200x500 with 1 Axes>"
      ]
     },
     "metadata": {},
     "output_type": "display_data"
    }
   ],
   "source": [
    "# date_form = mdates.DateFormatter(\"%Y-%m\")\n",
    "\n",
    "# half_year_locator = mdates.MonthLocator(interval=6)\n",
    "# year_month_formatter = mdates.DateFormatter(\"%Y-%m\")\n",
    "# month_year_formatter = mdates.DateFormatter('%b, %Y')\n",
    "\n",
    "fig,ax = plt.subplots(figsize=(12,5))\n",
    "# ax.xaxis.set_major_locator(half_year_locator)\n",
    "# ax.xaxis.set_major_formatter(year_month_formatter)\n",
    "# ax.xaxis.set_major_formatter(month_year_formatter)\n",
    "# ax.xaxis.set_major_formatter(date_form)\n",
    "\n",
    "# fig.autofmt_xdate()\n",
    "\n",
    "# plt.figure(figsize=(25,7))\n",
    "sns.set_theme(style='white',font_scale=1.0)\n",
    "\n",
    "\n",
    "sns.lineplot(x=df['TAHUN'],y=df['ROA'],data=df,linestyle='solid',color='black',linewidth=1.5,label='Actual ROA',marker='o')\n",
    "\n",
    "sns.lineplot(x=df['TAHUN'],y=df['ROE'],data=df,linestyle='solid',color='red',linewidth=1.5,label='Actual ROE',marker='o')\n",
    "\n",
    "# sns.lineplot(x=df['TAHUN'],y=df['Prediction NN 2 HL'],data=df,linestyle='dashed',color='blue',linewidth=1.0,label='Prediction using Neural Network',marker='o')\n",
    "\n",
    "plt.legend()\n",
    "plt.xlabel('Date')\n",
    "plt.ylabel('Prediction')\n",
    "plt.title('Return on Asset/Return on Equity PT. Samudera Indonesia Period 2018 - 2023')\n",
    "plt.grid(True)\n",
    "plt.show()\n"
   ]
  }
 ],
 "metadata": {
  "kernelspec": {
   "display_name": "Python 3",
   "language": "python",
   "name": "python3"
  },
  "language_info": {
   "codemirror_mode": {
    "name": "ipython",
    "version": 3
   },
   "file_extension": ".py",
   "mimetype": "text/x-python",
   "name": "python",
   "nbconvert_exporter": "python",
   "pygments_lexer": "ipython3",
   "version": "3.10.0"
  }
 },
 "nbformat": 4,
 "nbformat_minor": 2
}
